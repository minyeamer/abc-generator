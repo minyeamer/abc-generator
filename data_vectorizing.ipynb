{
 "cells": [
  {
   "cell_type": "markdown",
   "metadata": {},
   "source": [
    "# Preprocessing ABC notation files\n",
    "- total: about 5143 tunes"
   ]
  },
  {
   "cell_type": "code",
   "execution_count": 1,
   "metadata": {},
   "outputs": [],
   "source": [
    "import numpy as np\n",
    "import pandas as pd\n",
    "import matplotlib.pyplot as plt\n",
    "\n",
    "import os\n",
    "from collections import defaultdict\n",
    "from typing import List, Dict"
   ]
  },
  {
   "cell_type": "code",
   "execution_count": 2,
   "metadata": {},
   "outputs": [],
   "source": [
    "def add_fields(fields:Dict[str,List[str]], lines:List[str]):\n",
    "    if len(lines) > 0:\n",
    "        info = defaultdict(lambda: None)\n",
    "        for i, line in enumerate(lines):\n",
    "            if line.startswith('T:'):\n",
    "                info['T'] = line.split(':',1)[1].lstrip()\n",
    "            if line.startswith('M:'):\n",
    "                info['M'] = line.split(':',1)[1].lstrip()\n",
    "            elif line.startswith('L:'):\n",
    "                info['L'] = line.split(':',1)[1].lstrip()\n",
    "            elif line.startswith('K:'):\n",
    "                info['K'] = line.split(':',1)[1].lstrip()\n",
    "                info['body'] = lines[i+1:]\n",
    "                break\n",
    "        [fields[key].append(info[key]) for key in fields.keys()]\n",
    "\n",
    "    return fields, list()"
   ]
  },
  {
   "cell_type": "code",
   "execution_count": 3,
   "metadata": {},
   "outputs": [],
   "source": [
    "fields = {'T':list(),'M':list(),'L':list(),'K':list(),'body':list()}\n",
    "i = 0\n",
    "for dir_info in os.walk('data'):\n",
    "    for file_name in dir_info[2]:\n",
    "        if file_name.startswith('.'):\n",
    "            continue\n",
    "        with open(os.path.join(dir_info[0],file_name),'r',encoding='ISO-8859-1') as f:\n",
    "            lines = list()\n",
    "            for line in f.readlines():\n",
    "                if i > 100:\n",
    "                    raise Exception()\n",
    "                if line.startswith('%'):\n",
    "                    continue\n",
    "                elif line.strip() == str():\n",
    "                    fields, lines = add_fields(fields, lines)\n",
    "                else:\n",
    "                    lines.append(line.strip())"
   ]
  },
  {
   "cell_type": "code",
   "execution_count": 8,
   "metadata": {},
   "outputs": [
    {
     "name": "stdout",
     "output_type": "stream",
     "text": [
      "(7370, 5)\n"
     ]
    },
    {
     "data": {
      "text/html": [
       "<div>\n",
       "<style scoped>\n",
       "    .dataframe tbody tr th:only-of-type {\n",
       "        vertical-align: middle;\n",
       "    }\n",
       "\n",
       "    .dataframe tbody tr th {\n",
       "        vertical-align: top;\n",
       "    }\n",
       "\n",
       "    .dataframe thead th {\n",
       "        text-align: right;\n",
       "    }\n",
       "</style>\n",
       "<table border=\"1\" class=\"dataframe\">\n",
       "  <thead>\n",
       "    <tr style=\"text-align: right;\">\n",
       "      <th></th>\n",
       "      <th>T</th>\n",
       "      <th>M</th>\n",
       "      <th>L</th>\n",
       "      <th>K</th>\n",
       "      <th>body</th>\n",
       "    </tr>\n",
       "  </thead>\n",
       "  <tbody>\n",
       "    <tr>\n",
       "      <th>0</th>\n",
       "      <td>The Enchanted Valley</td>\n",
       "      <td>2/4</td>\n",
       "      <td>1/16</td>\n",
       "      <td>Gm</td>\n",
       "      <td>[G3-A (Bcd=e) | f4 (g2dB) | ({d}c3-B) G2-E2 | ...</td>\n",
       "    </tr>\n",
       "    <tr>\n",
       "      <th>1</th>\n",
       "      <td>Fare You Well</td>\n",
       "      <td>2/4</td>\n",
       "      <td>1/16</td>\n",
       "      <td>D</td>\n",
       "      <td>[f-g | a3-b g3-a | f4 e3-d | d3-c A3-B | c4 d3...</td>\n",
       "    </tr>\n",
       "    <tr>\n",
       "      <th>2</th>\n",
       "      <td>The Little Heathy Hill</td>\n",
       "      <td>C</td>\n",
       "      <td>1/8</td>\n",
       "      <td>Gm</td>\n",
       "      <td>[B/2-c/2 | d2 d&gt;-c B2 A-B | (GBAG) F2 D-F | (G...</td>\n",
       "    </tr>\n",
       "    <tr>\n",
       "      <th>3</th>\n",
       "      <td>The Little Girl of my Heart</td>\n",
       "      <td>4/4</td>\n",
       "      <td>1/8</td>\n",
       "      <td>D</td>\n",
       "      <td>[F-G | A-dd&gt;-c d2 cd | e-fgg (f2 d&gt;e) | f-d (c...</td>\n",
       "    </tr>\n",
       "    <tr>\n",
       "      <th>4</th>\n",
       "      <td>The Fun at Donnybrook</td>\n",
       "      <td>6/8</td>\n",
       "      <td>1/8</td>\n",
       "      <td>Gm</td>\n",
       "      <td>[B/2-A/2 | G&gt;FD C&gt;D^F | G3z2B/2-c/2 | B&gt;cd cAG...</td>\n",
       "    </tr>\n",
       "  </tbody>\n",
       "</table>\n",
       "</div>"
      ],
      "text/plain": [
       "                             T    M     L   K  \\\n",
       "0         The Enchanted Valley  2/4  1/16  Gm   \n",
       "1                Fare You Well  2/4  1/16   D   \n",
       "2       The Little Heathy Hill    C   1/8  Gm   \n",
       "3  The Little Girl of my Heart  4/4   1/8   D   \n",
       "4        The Fun at Donnybrook  6/8   1/8  Gm   \n",
       "\n",
       "                                                body  \n",
       "0  [G3-A (Bcd=e) | f4 (g2dB) | ({d}c3-B) G2-E2 | ...  \n",
       "1  [f-g | a3-b g3-a | f4 e3-d | d3-c A3-B | c4 d3...  \n",
       "2  [B/2-c/2 | d2 d>-c B2 A-B | (GBAG) F2 D-F | (G...  \n",
       "3  [F-G | A-dd>-c d2 cd | e-fgg (f2 d>e) | f-d (c...  \n",
       "4  [B/2-A/2 | G>FD C>D^F | G3z2B/2-c/2 | B>cd cAG...  "
      ]
     },
     "execution_count": 8,
     "metadata": {},
     "output_type": "execute_result"
    }
   ],
   "source": [
    "df = pd.DataFrame(fields)\n",
    "print(df.shape)\n",
    "df.head()"
   ]
  },
  {
   "cell_type": "code",
   "execution_count": 9,
   "metadata": {},
   "outputs": [
    {
     "name": "stdout",
     "output_type": "stream",
     "text": [
      "(2437, 5)\n"
     ]
    },
    {
     "data": {
      "text/html": [
       "<div>\n",
       "<style scoped>\n",
       "    .dataframe tbody tr th:only-of-type {\n",
       "        vertical-align: middle;\n",
       "    }\n",
       "\n",
       "    .dataframe tbody tr th {\n",
       "        vertical-align: top;\n",
       "    }\n",
       "\n",
       "    .dataframe thead th {\n",
       "        text-align: right;\n",
       "    }\n",
       "</style>\n",
       "<table border=\"1\" class=\"dataframe\">\n",
       "  <thead>\n",
       "    <tr style=\"text-align: right;\">\n",
       "      <th></th>\n",
       "      <th>T</th>\n",
       "      <th>M</th>\n",
       "      <th>L</th>\n",
       "      <th>K</th>\n",
       "      <th>body</th>\n",
       "    </tr>\n",
       "  </thead>\n",
       "  <tbody>\n",
       "    <tr>\n",
       "      <th>7</th>\n",
       "      <td>The Little Fair Child</td>\n",
       "      <td>6/8</td>\n",
       "      <td>1/8</td>\n",
       "      <td>D</td>\n",
       "      <td>[A/A/ | d&gt;ed cde | f&gt;ed e2 f/-e/ | d&gt;-cB/-G/ F...</td>\n",
       "    </tr>\n",
       "    <tr>\n",
       "      <th>12</th>\n",
       "      <td>The Red Haired Girl</td>\n",
       "      <td>3/4</td>\n",
       "      <td>1/8</td>\n",
       "      <td>D</td>\n",
       "      <td>[A/2-G/2 FA | B&gt;-G E-D CE | D2 (E/2F/2G) F-A |...</td>\n",
       "    </tr>\n",
       "    <tr>\n",
       "      <th>24</th>\n",
       "      <td>The Black Slender Boy</td>\n",
       "      <td>3/4</td>\n",
       "      <td>1/8</td>\n",
       "      <td>G</td>\n",
       "      <td>[G/2-A/2 Bc \\, | d&gt;-g (g/2f/2d/2c/2) Bc/2-A/2 ...</td>\n",
       "    </tr>\n",
       "    <tr>\n",
       "      <th>25</th>\n",
       "      <td>The Black Slender Boy</td>\n",
       "      <td>3/4</td>\n",
       "      <td>1/8</td>\n",
       "      <td>G</td>\n",
       "      <td>[c/2-A/2 (G/2A/2B/2c/2) \\, | d&gt;-g {ga}b-a g/2-...</td>\n",
       "    </tr>\n",
       "    <tr>\n",
       "      <th>31</th>\n",
       "      <td>The Brown Thorn</td>\n",
       "      <td>3/4</td>\n",
       "      <td>1/8</td>\n",
       "      <td>D</td>\n",
       "      <td>[D-E | (F&gt;E F)(ABc) | d3 c (BA/2F/2) | ~E4-D2 ...</td>\n",
       "    </tr>\n",
       "  </tbody>\n",
       "</table>\n",
       "</div>"
      ],
      "text/plain": [
       "                        T    M    L  K  \\\n",
       "7   The Little Fair Child  6/8  1/8  D   \n",
       "12    The Red Haired Girl  3/4  1/8  D   \n",
       "24  The Black Slender Boy  3/4  1/8  G   \n",
       "25  The Black Slender Boy  3/4  1/8  G   \n",
       "31        The Brown Thorn  3/4  1/8  D   \n",
       "\n",
       "                                                 body  \n",
       "7   [A/A/ | d>ed cde | f>ed e2 f/-e/ | d>-cB/-G/ F...  \n",
       "12  [A/2-G/2 FA | B>-G E-D CE | D2 (E/2F/2G) F-A |...  \n",
       "24  [G/2-A/2 Bc \\, | d>-g (g/2f/2d/2c/2) Bc/2-A/2 ...  \n",
       "25  [c/2-A/2 (G/2A/2B/2c/2) \\, | d>-g {ga}b-a g/2-...  \n",
       "31  [D-E | (F>E F)(ABc) | d3 c (BA/2F/2) | ~E4-D2 ...  "
      ]
     },
     "execution_count": 9,
     "metadata": {},
     "output_type": "execute_result"
    }
   ],
   "source": [
    "print(df[df['T'].duplicated()].shape)\n",
    "df[df['T'].duplicated()].head()"
   ]
  },
  {
   "cell_type": "code",
   "execution_count": 10,
   "metadata": {},
   "outputs": [
    {
     "name": "stdout",
     "output_type": "stream",
     "text": [
      "<class 'pandas.core.frame.DataFrame'>\n",
      "RangeIndex: 7370 entries, 0 to 7369\n",
      "Data columns (total 4 columns):\n",
      " #   Column  Non-Null Count  Dtype \n",
      "---  ------  --------------  ----- \n",
      " 0   M       7362 non-null   object\n",
      " 1   L       6676 non-null   object\n",
      " 2   K       7362 non-null   object\n",
      " 3   body    7362 non-null   object\n",
      "dtypes: object(4)\n",
      "memory usage: 230.4+ KB\n"
     ]
    }
   ],
   "source": [
    "df.info()"
   ]
  },
  {
   "cell_type": "code",
   "execution_count": null,
   "metadata": {},
   "outputs": [],
   "source": []
  }
 ],
 "metadata": {
  "kernelspec": {
   "display_name": "Python 3.8.9 ('base')",
   "language": "python",
   "name": "python3"
  },
  "language_info": {
   "codemirror_mode": {
    "name": "ipython",
    "version": 3
   },
   "file_extension": ".py",
   "mimetype": "text/x-python",
   "name": "python",
   "nbconvert_exporter": "python",
   "pygments_lexer": "ipython3",
   "version": "3.8.9"
  },
  "orig_nbformat": 4,
  "vscode": {
   "interpreter": {
    "hash": "c6e433785c256eddf1a97ef126132771859332314632db55c9adf99951004659"
   }
  }
 },
 "nbformat": 4,
 "nbformat_minor": 2
}
