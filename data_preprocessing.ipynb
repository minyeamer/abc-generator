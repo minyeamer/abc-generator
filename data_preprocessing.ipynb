{
 "cells": [
  {
   "cell_type": "markdown",
   "metadata": {},
   "source": [
    "# Preprocessing ABC notation files\n",
    "- total 5267 rows"
   ]
  },
  {
   "cell_type": "code",
   "execution_count": 1,
   "metadata": {},
   "outputs": [],
   "source": [
    "import numpy as np\n",
    "import pandas as pd\n",
    "import matplotlib.pyplot as plt\n",
    "\n",
    "import os\n",
    "import re\n",
    "from collections import defaultdict\n",
    "from typing import List, Dict"
   ]
  },
  {
   "cell_type": "markdown",
   "metadata": {},
   "source": [
    "## 데이터 추출"
   ]
  },
  {
   "cell_type": "code",
   "execution_count": 2,
   "metadata": {},
   "outputs": [],
   "source": [
    "def add_fields(fields:Dict[str,List[str]], lines:List[str]):\n",
    "    if len(lines) > 0:\n",
    "        info = defaultdict(lambda: None)\n",
    "        for i, line in enumerate(lines):\n",
    "            if line.startswith('T:'):\n",
    "                info['T'] = line.split(':',1)[1].lstrip()\n",
    "            if line.startswith('M:'):\n",
    "                info['M'] = line.split(':',1)[1].lstrip()\n",
    "            elif line.startswith('L:'):\n",
    "                info['L'] = line.split(':',1)[1].lstrip()\n",
    "            elif line.startswith('K:'):\n",
    "                info['K'] = line.split(':',1)[1].lstrip()\n",
    "                info['body'] = lines[i+1:]\n",
    "                break\n",
    "        [fields[key].append(info[key]) for key in fields.keys()]\n",
    "\n",
    "    return fields, list()"
   ]
  },
  {
   "cell_type": "code",
   "execution_count": 3,
   "metadata": {},
   "outputs": [],
   "source": [
    "fields = {'T':list(),'M':list(),'L':list(),'K':list(),'body':list()}\n",
    "i = 0\n",
    "for dir_info in os.walk('data'):\n",
    "    for file_name in dir_info[2]:\n",
    "        if file_name.startswith('.'):\n",
    "            continue\n",
    "        with open(os.path.join(dir_info[0],file_name),'r',encoding='ISO-8859-1') as f:\n",
    "            lines = list()\n",
    "            for line in f.readlines():\n",
    "                if i > 100:\n",
    "                    raise Exception()\n",
    "                if line.startswith('%'):\n",
    "                    continue\n",
    "                elif line.strip() == str():\n",
    "                    fields, lines = add_fields(fields, lines)\n",
    "                else:\n",
    "                    lines.append(line.strip())"
   ]
  },
  {
   "cell_type": "markdown",
   "metadata": {},
   "source": [
    "### 데이터 확인"
   ]
  },
  {
   "cell_type": "code",
   "execution_count": 4,
   "metadata": {},
   "outputs": [
    {
     "name": "stdout",
     "output_type": "stream",
     "text": [
      "(7362, 5)\n"
     ]
    },
    {
     "data": {
      "text/html": [
       "<div>\n",
       "<style scoped>\n",
       "    .dataframe tbody tr th:only-of-type {\n",
       "        vertical-align: middle;\n",
       "    }\n",
       "\n",
       "    .dataframe tbody tr th {\n",
       "        vertical-align: top;\n",
       "    }\n",
       "\n",
       "    .dataframe thead th {\n",
       "        text-align: right;\n",
       "    }\n",
       "</style>\n",
       "<table border=\"1\" class=\"dataframe\">\n",
       "  <thead>\n",
       "    <tr style=\"text-align: right;\">\n",
       "      <th></th>\n",
       "      <th>T</th>\n",
       "      <th>M</th>\n",
       "      <th>L</th>\n",
       "      <th>K</th>\n",
       "      <th>body</th>\n",
       "    </tr>\n",
       "  </thead>\n",
       "  <tbody>\n",
       "    <tr>\n",
       "      <th>0</th>\n",
       "      <td>The Enchanted Valley</td>\n",
       "      <td>2/4</td>\n",
       "      <td>1/16</td>\n",
       "      <td>Gm</td>\n",
       "      <td>[G3-A (Bcd=e) | f4 (g2dB) | ({d}c3-B) G2-E2 | ...</td>\n",
       "    </tr>\n",
       "    <tr>\n",
       "      <th>1</th>\n",
       "      <td>Fare You Well</td>\n",
       "      <td>2/4</td>\n",
       "      <td>1/16</td>\n",
       "      <td>D</td>\n",
       "      <td>[f-g | a3-b g3-a | f4 e3-d | d3-c A3-B | c4 d3...</td>\n",
       "    </tr>\n",
       "    <tr>\n",
       "      <th>2</th>\n",
       "      <td>The Little Heathy Hill</td>\n",
       "      <td>C</td>\n",
       "      <td>1/8</td>\n",
       "      <td>Gm</td>\n",
       "      <td>[B/2-c/2 | d2 d&gt;-c B2 A-B | (GBAG) F2 D-F | (G...</td>\n",
       "    </tr>\n",
       "    <tr>\n",
       "      <th>3</th>\n",
       "      <td>The Little Girl of my Heart</td>\n",
       "      <td>4/4</td>\n",
       "      <td>1/8</td>\n",
       "      <td>D</td>\n",
       "      <td>[F-G | A-dd&gt;-c d2 cd | e-fgg (f2 d&gt;e) | f-d (c...</td>\n",
       "    </tr>\n",
       "    <tr>\n",
       "      <th>4</th>\n",
       "      <td>The Fun at Donnybrook</td>\n",
       "      <td>6/8</td>\n",
       "      <td>1/8</td>\n",
       "      <td>Gm</td>\n",
       "      <td>[B/2-A/2 | G&gt;FD C&gt;D^F | G3z2B/2-c/2 | B&gt;cd cAG...</td>\n",
       "    </tr>\n",
       "  </tbody>\n",
       "</table>\n",
       "</div>"
      ],
      "text/plain": [
       "                             T    M     L   K  \\\n",
       "0         The Enchanted Valley  2/4  1/16  Gm   \n",
       "1                Fare You Well  2/4  1/16   D   \n",
       "2       The Little Heathy Hill    C   1/8  Gm   \n",
       "3  The Little Girl of my Heart  4/4   1/8   D   \n",
       "4        The Fun at Donnybrook  6/8   1/8  Gm   \n",
       "\n",
       "                                                body  \n",
       "0  [G3-A (Bcd=e) | f4 (g2dB) | ({d}c3-B) G2-E2 | ...  \n",
       "1  [f-g | a3-b g3-a | f4 e3-d | d3-c A3-B | c4 d3...  \n",
       "2  [B/2-c/2 | d2 d>-c B2 A-B | (GBAG) F2 D-F | (G...  \n",
       "3  [F-G | A-dd>-c d2 cd | e-fgg (f2 d>e) | f-d (c...  \n",
       "4  [B/2-A/2 | G>FD C>D^F | G3z2B/2-c/2 | B>cd cAG...  "
      ]
     },
     "execution_count": 4,
     "metadata": {},
     "output_type": "execute_result"
    }
   ],
   "source": [
    "df = pd.DataFrame(fields)\n",
    "print(df.shape)\n",
    "df.head()"
   ]
  },
  {
   "cell_type": "code",
   "execution_count": 5,
   "metadata": {},
   "outputs": [
    {
     "name": "stdout",
     "output_type": "stream",
     "text": [
      "<class 'pandas.core.frame.DataFrame'>\n",
      "RangeIndex: 7362 entries, 0 to 7361\n",
      "Data columns (total 5 columns):\n",
      " #   Column  Non-Null Count  Dtype \n",
      "---  ------  --------------  ----- \n",
      " 0   T       7362 non-null   object\n",
      " 1   M       7362 non-null   object\n",
      " 2   L       6676 non-null   object\n",
      " 3   K       7362 non-null   object\n",
      " 4   body    7362 non-null   object\n",
      "dtypes: object(5)\n",
      "memory usage: 287.7+ KB\n"
     ]
    }
   ],
   "source": [
    "df.info()"
   ]
  },
  {
   "cell_type": "markdown",
   "metadata": {},
   "source": [
    "### 중복된 데이터 제거"
   ]
  },
  {
   "cell_type": "code",
   "execution_count": 6,
   "metadata": {},
   "outputs": [
    {
     "name": "stdout",
     "output_type": "stream",
     "text": [
      "(5289, 5)\n"
     ]
    },
    {
     "data": {
      "text/html": [
       "<div>\n",
       "<style scoped>\n",
       "    .dataframe tbody tr th:only-of-type {\n",
       "        vertical-align: middle;\n",
       "    }\n",
       "\n",
       "    .dataframe tbody tr th {\n",
       "        vertical-align: top;\n",
       "    }\n",
       "\n",
       "    .dataframe thead th {\n",
       "        text-align: right;\n",
       "    }\n",
       "</style>\n",
       "<table border=\"1\" class=\"dataframe\">\n",
       "  <thead>\n",
       "    <tr style=\"text-align: right;\">\n",
       "      <th></th>\n",
       "      <th>T</th>\n",
       "      <th>M</th>\n",
       "      <th>L</th>\n",
       "      <th>K</th>\n",
       "      <th>body</th>\n",
       "    </tr>\n",
       "  </thead>\n",
       "  <tbody>\n",
       "    <tr>\n",
       "      <th>0</th>\n",
       "      <td>The Enchanted Valley</td>\n",
       "      <td>2/4</td>\n",
       "      <td>1/16</td>\n",
       "      <td>Gm</td>\n",
       "      <td>[G3-A (Bcd=e) | f4 (g2dB) | ({d}c3-B) G2-E2 | ...</td>\n",
       "    </tr>\n",
       "    <tr>\n",
       "      <th>1</th>\n",
       "      <td>Fare You Well</td>\n",
       "      <td>2/4</td>\n",
       "      <td>1/16</td>\n",
       "      <td>D</td>\n",
       "      <td>[f-g | a3-b g3-a | f4 e3-d | d3-c A3-B | c4 d3...</td>\n",
       "    </tr>\n",
       "    <tr>\n",
       "      <th>2</th>\n",
       "      <td>The Little Heathy Hill</td>\n",
       "      <td>C</td>\n",
       "      <td>1/8</td>\n",
       "      <td>Gm</td>\n",
       "      <td>[B/2-c/2 | d2 d&gt;-c B2 A-B | (GBAG) F2 D-F | (G...</td>\n",
       "    </tr>\n",
       "    <tr>\n",
       "      <th>3</th>\n",
       "      <td>The Little Girl of my Heart</td>\n",
       "      <td>4/4</td>\n",
       "      <td>1/8</td>\n",
       "      <td>D</td>\n",
       "      <td>[F-G | A-dd&gt;-c d2 cd | e-fgg (f2 d&gt;e) | f-d (c...</td>\n",
       "    </tr>\n",
       "    <tr>\n",
       "      <th>4</th>\n",
       "      <td>The Fun at Donnybrook</td>\n",
       "      <td>6/8</td>\n",
       "      <td>1/8</td>\n",
       "      <td>Gm</td>\n",
       "      <td>[B/2-A/2 | G&gt;FD C&gt;D^F | G3z2B/2-c/2 | B&gt;cd cAG...</td>\n",
       "    </tr>\n",
       "  </tbody>\n",
       "</table>\n",
       "</div>"
      ],
      "text/plain": [
       "                             T    M     L   K  \\\n",
       "0         The Enchanted Valley  2/4  1/16  Gm   \n",
       "1                Fare You Well  2/4  1/16   D   \n",
       "2       The Little Heathy Hill    C   1/8  Gm   \n",
       "3  The Little Girl of my Heart  4/4   1/8   D   \n",
       "4        The Fun at Donnybrook  6/8   1/8  Gm   \n",
       "\n",
       "                                                body  \n",
       "0  [G3-A (Bcd=e) | f4 (g2dB) | ({d}c3-B) G2-E2 | ...  \n",
       "1  [f-g | a3-b g3-a | f4 e3-d | d3-c A3-B | c4 d3...  \n",
       "2  [B/2-c/2 | d2 d>-c B2 A-B | (GBAG) F2 D-F | (G...  \n",
       "3  [F-G | A-dd>-c d2 cd | e-fgg (f2 d>e) | f-d (c...  \n",
       "4  [B/2-A/2 | G>FD C>D^F | G3z2B/2-c/2 | B>cd cAG...  "
      ]
     },
     "execution_count": 6,
     "metadata": {},
     "output_type": "execute_result"
    }
   ],
   "source": [
    "df = df[df['body'].duplicated().__invert__()]\n",
    "print(df.shape)\n",
    "df.head()"
   ]
  },
  {
   "cell_type": "markdown",
   "metadata": {},
   "source": [
    "곡 제목을 학습에 활용할 경우 추가로 중복 제거"
   ]
  },
  {
   "cell_type": "code",
   "execution_count": 7,
   "metadata": {},
   "outputs": [
    {
     "name": "stdout",
     "output_type": "stream",
     "text": [
      "(359, 5)\n"
     ]
    },
    {
     "data": {
      "text/html": [
       "<div>\n",
       "<style scoped>\n",
       "    .dataframe tbody tr th:only-of-type {\n",
       "        vertical-align: middle;\n",
       "    }\n",
       "\n",
       "    .dataframe tbody tr th {\n",
       "        vertical-align: top;\n",
       "    }\n",
       "\n",
       "    .dataframe thead th {\n",
       "        text-align: right;\n",
       "    }\n",
       "</style>\n",
       "<table border=\"1\" class=\"dataframe\">\n",
       "  <thead>\n",
       "    <tr style=\"text-align: right;\">\n",
       "      <th></th>\n",
       "      <th>T</th>\n",
       "      <th>M</th>\n",
       "      <th>L</th>\n",
       "      <th>K</th>\n",
       "      <th>body</th>\n",
       "    </tr>\n",
       "  </thead>\n",
       "  <tbody>\n",
       "    <tr>\n",
       "      <th>7</th>\n",
       "      <td>The Little Fair Child</td>\n",
       "      <td>6/8</td>\n",
       "      <td>1/8</td>\n",
       "      <td>D</td>\n",
       "      <td>[A/A/ | d&gt;ed cde | f&gt;ed e2 f/-e/ | d&gt;-cB/-G/ F...</td>\n",
       "    </tr>\n",
       "    <tr>\n",
       "      <th>12</th>\n",
       "      <td>The Red Haired Girl</td>\n",
       "      <td>3/4</td>\n",
       "      <td>1/8</td>\n",
       "      <td>D</td>\n",
       "      <td>[A/2-G/2 FA | B&gt;-G E-D CE | D2 (E/2F/2G) F-A |...</td>\n",
       "    </tr>\n",
       "    <tr>\n",
       "      <th>24</th>\n",
       "      <td>The Black Slender Boy</td>\n",
       "      <td>3/4</td>\n",
       "      <td>1/8</td>\n",
       "      <td>G</td>\n",
       "      <td>[G/2-A/2 Bc \\, | d&gt;-g (g/2f/2d/2c/2) Bc/2-A/2 ...</td>\n",
       "    </tr>\n",
       "    <tr>\n",
       "      <th>25</th>\n",
       "      <td>The Black Slender Boy</td>\n",
       "      <td>3/4</td>\n",
       "      <td>1/8</td>\n",
       "      <td>G</td>\n",
       "      <td>[c/2-A/2 (G/2A/2B/2c/2) \\, | d&gt;-g {ga}b-a g/2-...</td>\n",
       "    </tr>\n",
       "    <tr>\n",
       "      <th>31</th>\n",
       "      <td>The Brown Thorn</td>\n",
       "      <td>3/4</td>\n",
       "      <td>1/8</td>\n",
       "      <td>D</td>\n",
       "      <td>[D-E | (F&gt;E F)(ABc) | d3 c (BA/2F/2) | ~E4-D2 ...</td>\n",
       "    </tr>\n",
       "  </tbody>\n",
       "</table>\n",
       "</div>"
      ],
      "text/plain": [
       "                        T    M    L  K  \\\n",
       "7   The Little Fair Child  6/8  1/8  D   \n",
       "12    The Red Haired Girl  3/4  1/8  D   \n",
       "24  The Black Slender Boy  3/4  1/8  G   \n",
       "25  The Black Slender Boy  3/4  1/8  G   \n",
       "31        The Brown Thorn  3/4  1/8  D   \n",
       "\n",
       "                                                 body  \n",
       "7   [A/A/ | d>ed cde | f>ed e2 f/-e/ | d>-cB/-G/ F...  \n",
       "12  [A/2-G/2 FA | B>-G E-D CE | D2 (E/2F/2G) F-A |...  \n",
       "24  [G/2-A/2 Bc \\, | d>-g (g/2f/2d/2c/2) Bc/2-A/2 ...  \n",
       "25  [c/2-A/2 (G/2A/2B/2c/2) \\, | d>-g {ga}b-a g/2-...  \n",
       "31  [D-E | (F>E F)(ABc) | d3 c (BA/2F/2) | ~E4-D2 ...  "
      ]
     },
     "execution_count": 7,
     "metadata": {},
     "output_type": "execute_result"
    }
   ],
   "source": [
    "print(df[df['T'].duplicated()].shape)\n",
    "df[df['T'].duplicated()].head()"
   ]
  },
  {
   "cell_type": "markdown",
   "metadata": {},
   "source": [
    "우선, body 문자열만 가지고 Char RNN 시도"
   ]
  },
  {
   "cell_type": "markdown",
   "metadata": {},
   "source": [
    "## 불용어 제거"
   ]
  },
  {
   "cell_type": "code",
   "execution_count": 8,
   "metadata": {},
   "outputs": [],
   "source": [
    "char_vocab = {\n",
    "    'C', 'D', 'E', 'F', 'G', 'A', 'B', 'c', 'd', 'e', 'f', 'g', 'a', 'b', \"'\", ',', '^', '=', '-', '_', '/',\n",
    "    '0', '1', '2', '3', '4', '5', '6', '7', '8', '9', '>', '<', 'z', 'Z', '`', ':', '|',\n",
    "    '(', ')', '{', '}', '[', ']', '.', '~', 'H', 'L', 'M', 'O', 'P', 'S', 'T', 'u', 'v', '!', '\"', ' ', ';',\n",
    "}"
   ]
  },
  {
   "cell_type": "markdown",
   "metadata": {},
   "source": [
    "ABC notation 규칙 상 의미를 가지고 있다고 판단되는 문자들을 규정   \n",
    "문장 간 구분을 위한 문자로 ';' 지정"
   ]
  },
  {
   "cell_type": "markdown",
   "metadata": {},
   "source": [
    "### 규칙에 위배되는 문자 목록"
   ]
  },
  {
   "cell_type": "code",
   "execution_count": 9,
   "metadata": {},
   "outputs": [
    {
     "name": "stdout",
     "output_type": "stream",
     "text": [
      "['#', '*', '+', '@', 'I', 'K', 'N', 'Q', 'R', 'U', 'V', 'W', 'X', '\\\\', 'h', 'i', 'k', 'l', 'm', 'n', 'o', 'p', 'r', 's', 't', 'w', 'x', 'y']\n"
     ]
    }
   ],
   "source": [
    "tune_body = df['body'].apply(lambda x: ';'.join(x)).tolist()\n",
    "print(sorted(set(';'.join(tune_body)).difference(char_vocab)))"
   ]
  },
  {
   "cell_type": "markdown",
   "metadata": {},
   "source": [
    "그 자체로 의미를 확인할 수 없는 문자들이 존재함을 확인   \n",
    "먼저, 노이즈 데이터에 해당하는 annotation을 검사"
   ]
  },
  {
   "cell_type": "markdown",
   "metadata": {},
   "source": [
    "### Annotation 제거"
   ]
  },
  {
   "cell_type": "code",
   "execution_count": 10,
   "metadata": {},
   "outputs": [
    {
     "name": "stdout",
     "output_type": "stream",
     "text": [
      "{'D/dim', 'Slower', '', '_Forte', 'G7', 'D7/b9', 'end ', 'A7/c+', 'Gm', 'Cm', 'F7', 'Cry of the hounds', ' D', 'f/+', 'E', 'Eb', '    Fine', 'Bm/a', '(a+)', 'fine', 'C7', 'P', '/@>.5A7', '(b)', 'C/g', 'Bm/d', '#~', 'S', 'Am/g+', 'Ab', 'DC al (S)', 'Sign', 'rall.', 'b', 'D/c+', 'C#7', 'Cm6', 'A7)', 'D.C', 'F#m', '<', 'segno', 'C', '~natural', 'F', '(Bm)', '/@<.8(D7)', 'Dm G7', '_F', '3', 'C/e', 'Adim', 'C  drone', 'd', 'g', '^[Ad lib...', 'C7/g', 'D#/dim', 'D.C. ', 'G#/dim', 'G7/b', 'D7/a', 'Daug', ' Em', 'Bb/f', 'G  C', 'Bm', 'Am/e', 'd#', 'f#', '_Pia.', 'Dm', 'C#', 'after ~', 'G7/d', '_For.', 'D/f+', 'g#', '(C)', 'E/dim', '^Minore', 'D', 'D/g', 'p', 'Em/d', 'Edim', '  Fine', 'F/c', 'G)', '^...]', 'D/nF', 'mf', 'A', 'a', '_Pia', '/@>.5A', 'e', ' ', '_x', 'Slow', 'A/c+', 'Dm/f', 'Bb7', 'D6', 'cresc.', '   S', 'e d+ d c+', 'G/(pl', 'Gm/bb', 'a tempo.', 'dim', 'B', '    S', 'c#', 'H', 'G/dim', 'C/c', 'Bm/f+', 'A7', 'Em7', 'eb', 'Em7/d', 'F#', 'D7/f+', '   Fine', 'Chorus.', '/@<.5D7', 'a#', '(A7)', '(end)', 'E7/b', '.', 'G/b', 'ff', 'Em/g', 'F/dim', '(Em)', '>', 'Am7/g', 'Em', 'Bb/d', 'Dm/a', '_p', 'Em/d+', '_P', 'tr', 'B7', 'B7/f+', 'Am/f+', 'D/a', '(E7)', 'Segno', 'End', 'D7/b', 'Cdim', 'bb', 'D7/c', 'Fm', '^F', '_f', '   D.S.', '(F+7)', 'A7/f+', 'End ', 'D.C.', '    D.S.', '(End)', 'ab', 'C#/dim', '^Fine', 'Bb', 'C/dim', '(D', 'G>g``````A>a B>bA>B| G<EE>D D>EG>B| c>AB>G A<A a2||', '   E7', 'G/d', '=', '(a)', 'D m', 'Cronan.', '~', 'Fine', 'G#7', 'Dm7/c', '5A', 'W', 'C/(pl', 'Am', 'dim.', '   Sign', '(S)', 'A7/g', '(D7)', 'C#m', '^D.C.', '(D)', 'C6', 'E7', '^P', 'pp', 'DC', 'G', 'trill', '#', 'Dm6', 'c d', 'Em/c+', '~#', 'Bb/dim', 'F#7', 'gb', 'Gdim', 'C(7)', 'G6', 'cresc', 'Eb/dim', '   D.C.', 'F7/a', 'F/a', 'E7/b9', 'Lively', 'Horns', 'Cm/g', 'D.S.', 'A/e', '(e d+ d c+)', 'end', ' B7', '^So', 'f/=', 'Gm/d', 'Am7', 'f', 'G (A7)', 'c', 'Am/g', 'g2 dg  dg/a/ bg      |   a2 ea      e>d```c>e| d/c/B/A/ GB  cAA::', '_Vio', 'A7/e', 'Bm7', 'A litle faster', 'G7/f', 'g G', 'F#m/a', 'Quick', 'Am/c', '(G7)', 'D7', '/@<.5A7', 'A/dim', 'Eaug', 'E7/g+'}\n"
     ]
    }
   ],
   "source": [
    "annot = set()\n",
    "for tune_body in df['body']:\n",
    "    for line in tune_body:\n",
    "        annot.update(set(re.findall('!([^!]*)!', line)))\n",
    "        annot.update(set(re.findall('\"([^\"]*)\"', line)))\n",
    "print(annot)"
   ]
  },
  {
   "cell_type": "markdown",
   "metadata": {},
   "source": [
    "!...! 또는 \"...\" 조건을 만족하는 문자열을 추출했을 때,   \n",
    "annotation으로 규정하기 어려운 긴 문자열을 다수 확인할 수 있음"
   ]
  },
  {
   "cell_type": "code",
   "execution_count": 11,
   "metadata": {},
   "outputs": [
    {
     "name": "stdout",
     "output_type": "stream",
     "text": [
      "Songs with violated representations: 22\n"
     ]
    }
   ],
   "source": [
    "violated_index = list()\n",
    "df['body'] = df['body'].apply(lambda x: ';'.join(x))\n",
    "\n",
    "for i, tune_body in zip(df.index, df['body']):\n",
    "    annot = set()\n",
    "    annot.update(set(re.findall('!([^!]*)!', tune_body)))\n",
    "    annot.update(set(re.findall('\"([^\"]*)\"', tune_body)))\n",
    "    if max([len(s) for s in annot]+[0]) > 8:\n",
    "        violated_index.append(i)\n",
    "print('Songs with violated representations:', len(violated_index))"
   ]
  },
  {
   "cell_type": "markdown",
   "metadata": {},
   "source": [
    "이후 전처리 시 편의성을 위해 ';' 구분자와 함께 문장 통합"
   ]
  },
  {
   "cell_type": "markdown",
   "metadata": {},
   "source": [
    "규칙에 위배되었다고 판단되는 긴 문자열의 최소 기준을 9로 지정했을 때,   \n",
    "해당 표현을 포함하는 곡의 수가 22개에 불과하기 때문에 제거해도 무방하다고 판단"
   ]
  },
  {
   "cell_type": "code",
   "execution_count": 12,
   "metadata": {},
   "outputs": [
    {
     "name": "stdout",
     "output_type": "stream",
     "text": [
      "(5267, 5)\n"
     ]
    },
    {
     "data": {
      "text/html": [
       "<div>\n",
       "<style scoped>\n",
       "    .dataframe tbody tr th:only-of-type {\n",
       "        vertical-align: middle;\n",
       "    }\n",
       "\n",
       "    .dataframe tbody tr th {\n",
       "        vertical-align: top;\n",
       "    }\n",
       "\n",
       "    .dataframe thead th {\n",
       "        text-align: right;\n",
       "    }\n",
       "</style>\n",
       "<table border=\"1\" class=\"dataframe\">\n",
       "  <thead>\n",
       "    <tr style=\"text-align: right;\">\n",
       "      <th></th>\n",
       "      <th>T</th>\n",
       "      <th>M</th>\n",
       "      <th>L</th>\n",
       "      <th>K</th>\n",
       "      <th>body</th>\n",
       "    </tr>\n",
       "  </thead>\n",
       "  <tbody>\n",
       "    <tr>\n",
       "      <th>0</th>\n",
       "      <td>The Enchanted Valley</td>\n",
       "      <td>2/4</td>\n",
       "      <td>1/16</td>\n",
       "      <td>Gm</td>\n",
       "      <td>G3-A (Bcd=e) | f4 (g2dB) | ({d}c3-B) G2-E2 | F...</td>\n",
       "    </tr>\n",
       "    <tr>\n",
       "      <th>1</th>\n",
       "      <td>Fare You Well</td>\n",
       "      <td>2/4</td>\n",
       "      <td>1/16</td>\n",
       "      <td>D</td>\n",
       "      <td>f-g | a3-b g3-a | f4 e3-d | d3-c A3-B | c4 d3-...</td>\n",
       "    </tr>\n",
       "    <tr>\n",
       "      <th>2</th>\n",
       "      <td>The Little Heathy Hill</td>\n",
       "      <td>C</td>\n",
       "      <td>1/8</td>\n",
       "      <td>Gm</td>\n",
       "      <td>B/2-c/2 | d2 d&gt;-c B2 A-B | (GBAG) F2 D-F | (G&gt;...</td>\n",
       "    </tr>\n",
       "    <tr>\n",
       "      <th>3</th>\n",
       "      <td>The Little Girl of my Heart</td>\n",
       "      <td>4/4</td>\n",
       "      <td>1/8</td>\n",
       "      <td>D</td>\n",
       "      <td>F-G | A-dd&gt;-c d2 cd | e-fgg (f2 d&gt;e) | f-d (c/...</td>\n",
       "    </tr>\n",
       "    <tr>\n",
       "      <th>4</th>\n",
       "      <td>The Fun at Donnybrook</td>\n",
       "      <td>6/8</td>\n",
       "      <td>1/8</td>\n",
       "      <td>Gm</td>\n",
       "      <td>B/2-A/2 | G&gt;FD C&gt;D^F | G3z2B/2-c/2 | B&gt;cd cAG ...</td>\n",
       "    </tr>\n",
       "  </tbody>\n",
       "</table>\n",
       "</div>"
      ],
      "text/plain": [
       "                             T    M     L   K  \\\n",
       "0         The Enchanted Valley  2/4  1/16  Gm   \n",
       "1                Fare You Well  2/4  1/16   D   \n",
       "2       The Little Heathy Hill    C   1/8  Gm   \n",
       "3  The Little Girl of my Heart  4/4   1/8   D   \n",
       "4        The Fun at Donnybrook  6/8   1/8  Gm   \n",
       "\n",
       "                                                body  \n",
       "0  G3-A (Bcd=e) | f4 (g2dB) | ({d}c3-B) G2-E2 | F...  \n",
       "1  f-g | a3-b g3-a | f4 e3-d | d3-c A3-B | c4 d3-...  \n",
       "2  B/2-c/2 | d2 d>-c B2 A-B | (GBAG) F2 D-F | (G>...  \n",
       "3  F-G | A-dd>-c d2 cd | e-fgg (f2 d>e) | f-d (c/...  \n",
       "4  B/2-A/2 | G>FD C>D^F | G3z2B/2-c/2 | B>cd cAG ...  "
      ]
     },
     "execution_count": 12,
     "metadata": {},
     "output_type": "execute_result"
    }
   ],
   "source": [
    "df.drop(index=violated_index, axis=0, inplace=True)\n",
    "df['body'] = df['body'].apply(lambda x: re.sub('!([^!]*)!','',x))\n",
    "df['body'] = df['body'].apply(lambda x: re.sub('\"([^\"]*)\"','',x))\n",
    "\n",
    "print(df.shape)\n",
    "df.head()"
   ]
  },
  {
   "cell_type": "markdown",
   "metadata": {},
   "source": [
    "규칙에 위배되는 22개 곡을 지우고 annotation을 전부 제거"
   ]
  },
  {
   "cell_type": "markdown",
   "metadata": {},
   "source": [
    "## 문자 집합 생성"
   ]
  },
  {
   "cell_type": "code",
   "execution_count": 13,
   "metadata": {},
   "outputs": [],
   "source": [
    "df['body'] = df['body'].apply(lambda x: str(x).replace('\\\\',''))\n",
    "df['body'] = df['body'].apply(lambda x: str(x).replace('!',''))\n",
    "df['body'] = df['body'].apply(lambda x: str(x).strip())"
   ]
  },
  {
   "cell_type": "markdown",
   "metadata": {},
   "source": [
    "blackslash를 의미하는 '\\\\' 문자를 포함해 불필요하다고 판단되는 문자들을 추가로 제거"
   ]
  },
  {
   "cell_type": "code",
   "execution_count": 14,
   "metadata": {},
   "outputs": [
    {
     "name": "stdout",
     "output_type": "stream",
     "text": [
      "[' ', \"'\", '(', ')', '*', '+', ',', '-', '.', '/', '0', '1', '2', '3', '4', '5', '6', '7', '8', '9', ':', ';', '<', '=', '>', 'A', 'B', 'C', 'D', 'E', 'F', 'G', 'H', 'I', 'K', 'L', 'M', 'N', 'O', 'P', 'Q', 'R', 'S', 'T', 'U', 'V', 'X', 'Z', '[', ']', '^', '_', '`', 'a', 'b', 'c', 'd', 'e', 'f', 'g', 'h', 'i', 'k', 'l', 'm', 'n', 'o', 'p', 'r', 's', 't', 'u', 'v', 'w', 'x', 'y', 'z', '{', '|', '}', '~']\n"
     ]
    }
   ],
   "source": [
    "char_vocab = sorted(set(';'.join(df['body'].tolist())))\n",
    "print(char_vocab)"
   ]
  },
  {
   "cell_type": "markdown",
   "metadata": {},
   "source": [
    "처음 규정했던 문자 목록에 포함되지 않는 문자들이 여전히 존재하지만,   \n",
    "'K:Dm'와 같이 전혀 불필요한 문자가 아니기도 하고, 수정 또는 제외 등의 처리가 어렵다고 판단되어 유지하기로 판단"
   ]
  },
  {
   "cell_type": "code",
   "execution_count": 15,
   "metadata": {},
   "outputs": [],
   "source": [
    "df.to_csv('data/abc_char.csv', index=False)"
   ]
  },
  {
   "cell_type": "markdown",
   "metadata": {},
   "source": [
    "전처리 완료 후 데이터 저장"
   ]
  }
 ],
 "metadata": {
  "kernelspec": {
   "display_name": "Python 3.8.9 ('base')",
   "language": "python",
   "name": "python3"
  },
  "language_info": {
   "codemirror_mode": {
    "name": "ipython",
    "version": 3
   },
   "file_extension": ".py",
   "mimetype": "text/x-python",
   "name": "python",
   "nbconvert_exporter": "python",
   "pygments_lexer": "ipython3",
   "version": "3.8.9"
  },
  "orig_nbformat": 4,
  "vscode": {
   "interpreter": {
    "hash": "c6e433785c256eddf1a97ef126132771859332314632db55c9adf99951004659"
   }
  }
 },
 "nbformat": 4,
 "nbformat_minor": 2
}
