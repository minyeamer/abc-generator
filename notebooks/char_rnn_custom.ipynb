{
 "cells": [
  {
   "cell_type": "markdown",
   "metadata": {},
   "source": [
    "# Preprocessing ABC notation files\n",
    "- vectorize by custom dictionary\n",
    "- total 5267 rows"
   ]
  },
  {
   "cell_type": "code",
   "execution_count": 1,
   "metadata": {},
   "outputs": [],
   "source": [
    "import warnings\n",
    "warnings.filterwarnings(\"ignore\")\n",
    "\n",
    "import numpy as np\n",
    "import pandas as pd\n",
    "import matplotlib.pyplot as plt\n",
    "import seaborn as sns\n",
    "\n",
    "import os\n",
    "import re\n",
    "from itertools import product\n",
    "from typing import List, Dict\n",
    "\n",
    "from tensorflow.keras.preprocessing.sequence import pad_sequences\n",
    "from tensorflow.keras.utils import to_categorical\n",
    "from tensorflow.keras.models import load_model"
   ]
  },
  {
   "cell_type": "markdown",
   "metadata": {},
   "source": [
    "## Load Data"
   ]
  },
  {
   "cell_type": "code",
   "execution_count": 2,
   "metadata": {},
   "outputs": [
    {
     "name": "stdout",
     "output_type": "stream",
     "text": [
      "(5287, 6)\n"
     ]
    },
    {
     "data": {
      "text/html": [
       "<div>\n",
       "<style scoped>\n",
       "    .dataframe tbody tr th:only-of-type {\n",
       "        vertical-align: middle;\n",
       "    }\n",
       "\n",
       "    .dataframe tbody tr th {\n",
       "        vertical-align: top;\n",
       "    }\n",
       "\n",
       "    .dataframe thead th {\n",
       "        text-align: right;\n",
       "    }\n",
       "</style>\n",
       "<table border=\"1\" class=\"dataframe\">\n",
       "  <thead>\n",
       "    <tr style=\"text-align: right;\">\n",
       "      <th></th>\n",
       "      <th>T</th>\n",
       "      <th>M</th>\n",
       "      <th>L</th>\n",
       "      <th>K</th>\n",
       "      <th>body</th>\n",
       "      <th>body_str</th>\n",
       "    </tr>\n",
       "  </thead>\n",
       "  <tbody>\n",
       "    <tr>\n",
       "      <th>0</th>\n",
       "      <td>The Enchanted Valley</td>\n",
       "      <td>2/4</td>\n",
       "      <td>1/16</td>\n",
       "      <td>Gm</td>\n",
       "      <td>[G3-A (Bcd=e) | f4 (g2dB) | ({d}c3-B) G2-E2 | ...</td>\n",
       "      <td>G3-A (Bcd=e) | f4 (g2dB) | ({d}c3-B) G2-E2 | F...</td>\n",
       "    </tr>\n",
       "    <tr>\n",
       "      <th>1</th>\n",
       "      <td>Fare You Well</td>\n",
       "      <td>2/4</td>\n",
       "      <td>1/16</td>\n",
       "      <td>D</td>\n",
       "      <td>[f-g | a3-b g3-a | f4 e3-d | d3-c A3-B | c4 d3...</td>\n",
       "      <td>f-g | a3-b g3-a | f4 e3-d | d3-c A3-B | c4 d3-...</td>\n",
       "    </tr>\n",
       "    <tr>\n",
       "      <th>2</th>\n",
       "      <td>The Little Heathy Hill</td>\n",
       "      <td>C</td>\n",
       "      <td>1/8</td>\n",
       "      <td>Gm</td>\n",
       "      <td>[B/2-c/2 | d2 d&gt;-c B2 A-B | (GBAG) F2 D-F | (G...</td>\n",
       "      <td>B/2-c/2 | d2 d&gt;-c B2 A-B | (GBAG) F2 D-F | (G&gt;...</td>\n",
       "    </tr>\n",
       "    <tr>\n",
       "      <th>3</th>\n",
       "      <td>The Little Girl of my Heart</td>\n",
       "      <td>4/4</td>\n",
       "      <td>1/8</td>\n",
       "      <td>D</td>\n",
       "      <td>[F-G | A-dd&gt;-c d2 cd | e-fgg (f2 d&gt;e) | f-d (c...</td>\n",
       "      <td>F-G | A-dd&gt;-c d2 cd | e-fgg (f2 d&gt;e) | f-d (c/...</td>\n",
       "    </tr>\n",
       "    <tr>\n",
       "      <th>4</th>\n",
       "      <td>The Fun at Donnybrook</td>\n",
       "      <td>6/8</td>\n",
       "      <td>1/8</td>\n",
       "      <td>Gm</td>\n",
       "      <td>[B/2-A/2 | G&gt;FD C&gt;D^F | G3z2B/2-c/2 | B&gt;cd cAG...</td>\n",
       "      <td>B/2-A/2 | G&gt;FD C&gt;D^F | G3z2B/2-c/2 | B&gt;cd cAG ...</td>\n",
       "    </tr>\n",
       "  </tbody>\n",
       "</table>\n",
       "</div>"
      ],
      "text/plain": [
       "                             T    M     L   K  \\\n",
       "0         The Enchanted Valley  2/4  1/16  Gm   \n",
       "1                Fare You Well  2/4  1/16   D   \n",
       "2       The Little Heathy Hill    C   1/8  Gm   \n",
       "3  The Little Girl of my Heart  4/4   1/8   D   \n",
       "4        The Fun at Donnybrook  6/8   1/8  Gm   \n",
       "\n",
       "                                                body  \\\n",
       "0  [G3-A (Bcd=e) | f4 (g2dB) | ({d}c3-B) G2-E2 | ...   \n",
       "1  [f-g | a3-b g3-a | f4 e3-d | d3-c A3-B | c4 d3...   \n",
       "2  [B/2-c/2 | d2 d>-c B2 A-B | (GBAG) F2 D-F | (G...   \n",
       "3  [F-G | A-dd>-c d2 cd | e-fgg (f2 d>e) | f-d (c...   \n",
       "4  [B/2-A/2 | G>FD C>D^F | G3z2B/2-c/2 | B>cd cAG...   \n",
       "\n",
       "                                            body_str  \n",
       "0  G3-A (Bcd=e) | f4 (g2dB) | ({d}c3-B) G2-E2 | F...  \n",
       "1  f-g | a3-b g3-a | f4 e3-d | d3-c A3-B | c4 d3-...  \n",
       "2  B/2-c/2 | d2 d>-c B2 A-B | (GBAG) F2 D-F | (G>...  \n",
       "3  F-G | A-dd>-c d2 cd | e-fgg (f2 d>e) | f-d (c/...  \n",
       "4  B/2-A/2 | G>FD C>D^F | G3z2B/2-c/2 | B>cd cAG ...  "
      ]
     },
     "execution_count": 2,
     "metadata": {},
     "output_type": "execute_result"
    }
   ],
   "source": [
    "df = pd.read_csv('data/train.csv')\n",
    "df['body'] = df['body'].apply(lambda x: eval(x))\n",
    "print(df.shape)\n",
    "df.head()"
   ]
  },
  {
   "cell_type": "markdown",
   "metadata": {},
   "source": [
    "## Data Preprocessing"
   ]
  },
  {
   "cell_type": "markdown",
   "metadata": {},
   "source": [
    "### Annotation 제거\n",
    "- 단어 집합의 간소화를 위해 직접적으로 음에 영향을 끼치지 않는 annotation을 제거"
   ]
  },
  {
   "cell_type": "code",
   "execution_count": 3,
   "metadata": {},
   "outputs": [],
   "source": [
    "df['body'] = df['body'].apply(lambda body: [re.sub('!([^!]*)!','',line) for line in body])\n",
    "df['body'] = df['body'].apply(lambda body: [re.sub('\"([^\"]*)\"','',line) for line in body])"
   ]
  },
  {
   "cell_type": "markdown",
   "metadata": {},
   "source": [
    "### Parts 제거\n",
    "- P:A, V:1 등으로 표현되는 파트는 모델로 구현하기 어렵기 때문에 이를 포함하는 곡을 제거"
   ]
  },
  {
   "cell_type": "code",
   "execution_count": 4,
   "metadata": {},
   "outputs": [
    {
     "name": "stdout",
     "output_type": "stream",
     "text": [
      "Dropped: 530\n"
     ]
    }
   ],
   "source": [
    "violated_index = list()\n",
    "\n",
    "for i, body in enumerate(df['body']):\n",
    "    parts = set()\n",
    "    [parts.update(set(match)) for match in [re.findall('(P:.*)',line) for line in body]]\n",
    "    [parts.update(set(match)) for match in [re.findall('(V:.*)',line) for line in body]]\n",
    "    if len(parts) > 0:\n",
    "        violated_index.append(i)\n",
    "\n",
    "print('Dropped:', len(violated_index))\n",
    "df.drop(index=violated_index, inplace=True)\n",
    "\n",
    "df = df.reset_index().set_index('index')\n",
    "df['body'] = df['body'].apply(lambda body: [str(line).strip() for line in body if len(line) > 0])\n",
    "df['body_str'] = df['body'].apply(lambda body: '[SEP]'.join(body))"
   ]
  },
  {
   "cell_type": "markdown",
   "metadata": {},
   "source": [
    "### Make Custom Vocabulary\n",
    "- ABC notation 규칙에 부합하는 단어 목록을 지정"
   ]
  },
  {
   "cell_type": "code",
   "execution_count": 5,
   "metadata": {},
   "outputs": [
    {
     "name": "stdout",
     "output_type": "stream",
     "text": [
      "Custom vocabulary: {'[PAD]': 0, '[SEP]': 1, 'M:': 2, 'L:': 3, 'K:': 4, 'Q:': 5, 'treble': 6, 'bass3': 7, 'bass': 8, 'tenor': 9, 'alto1': 10, 'alto2': 11, 'alto': 12, '0': 13, '1': 14, '2': 15, '3': 16, '4': 17, '5': 18, '6': 19, '7': 20, '8': 21, '9': 22, \"'\": 23, ',': 24, '^': 25, '=': 26, '-': 27, '_': 28, '/': 29, '|]': 30, '||': 31, '[|': 32, '|:': 33, ':|': 34, '::': 35, '|': 36, ':': 37, '(': 38, ')': 39, '{': 40, '}': 41, '[': 42, ']': 43, '.': 44, '~': 45, '>': 46, '<': 47, '`': 48, 'z': 49, 'Z': 50, 'H': 51, 'L': 52, 'M': 53, 'O': 54, 'P': 55, 'S': 56, 'T': 57, 'u': 58, 'v': 59, 'C#m': 60, 'Cbm': 61, 'C#': 62, 'Cm': 63, 'Cb': 64, 'C': 65, 'D#m': 66, 'Dbm': 67, 'D#': 68, 'Dm': 69, 'Db': 70, 'D': 71, 'E#m': 72, 'Ebm': 73, 'E#': 74, 'Em': 75, 'Eb': 76, 'E': 77, 'F#m': 78, 'Fbm': 79, 'F#': 80, 'Fm': 81, 'Fb': 82, 'F': 83, 'G#m': 84, 'Gbm': 85, 'G#': 86, 'Gm': 87, 'Gb': 88, 'G': 89, 'A#m': 90, 'Abm': 91, 'A#': 92, 'Am': 93, 'Ab': 94, 'A': 95, 'B#m': 96, 'Bbm': 97, 'B#': 98, 'Bm': 99, 'Bb': 100, 'B': 101, 'c': 102, 'd': 103, 'e': 104, 'f': 105, 'g': 106, 'a': 107, 'b': 108}\n"
     ]
    }
   ],
   "source": [
    "custom_vocab = [\n",
    "    '[PAD]', '[SEP]', 'M:', 'L:', 'K:', 'Q:', 'treble', 'bass3', 'bass', 'tenor', 'alto1', 'alto2', 'alto',\n",
    "    '0', '1', '2', '3', '4', '5', '6', '7', '8', '9', \"'\", ',', '^', '=', '-', '_', '/',\n",
    "    '|]', '||', '[|', '|:', ':|', '::', '|', ':', '(', ')', '{', '}', '[', ']',\n",
    "    '.', '~', '>', '<', '`', 'z', 'Z', 'H', 'L', 'M', 'O', 'P', 'S', 'T', 'u', 'v',]\n",
    "custom_vocab += list(map(lambda x: ''.join(x), product(['C','D','E','F','G','A','B'],['#m','bm','#','m','b',''])))\n",
    "custom_vocab += ['c', 'd', 'e', 'f', 'g', 'a', 'b']\n",
    "vocab_size = len(custom_vocab)\n",
    "\n",
    "word2vec = {word:i for i,word in enumerate(custom_vocab)}\n",
    "idx2word = {i:word for word,i in word2vec.items()}\n",
    "\n",
    "print('Custom vocabulary:', word2vec)"
   ]
  },
  {
   "cell_type": "markdown",
   "metadata": {},
   "source": [
    "### Vectorization\n",
    "- ABC notation 규칙에 부합하는 단어들만을 추출해 벡터로 변환"
   ]
  },
  {
   "cell_type": "code",
   "execution_count": 6,
   "metadata": {},
   "outputs": [
    {
     "name": "stdout",
     "output_type": "stream",
     "text": [
      "Vector size: 4757\n"
     ]
    }
   ],
   "source": [
    "pattern = re.compile('|'.join(f'({re.escape(word)})' for word in custom_vocab))\n",
    "\n",
    "df['body_str'] = df['body_str'].apply(lambda x: re.sub(pattern, lambda match: f' {match.group(0)} ', x).split())\n",
    "vector = [[word2vec[char] for char in line if char in custom_vocab] for line in df['body_str']]\n",
    "print('Vector size:', len(vector))"
   ]
  },
  {
   "cell_type": "markdown",
   "metadata": {},
   "source": [
    "### Padding"
   ]
  },
  {
   "cell_type": "code",
   "execution_count": 7,
   "metadata": {},
   "outputs": [
    {
     "name": "stdout",
     "output_type": "stream",
     "text": [
      "Maximum length: 1517\n",
      "Minimum length: 8\n"
     ]
    },
    {
     "data": {
      "image/png": "[encoded data removed]",
      "text/plain": [
       "<Figure size 864x288 with 2 Axes>"
      ]
     },
     "metadata": {
      "needs_background": "light"
     },
     "output_type": "display_data"
    }
   ],
   "source": [
    "seq_len = {'length':[len(seq) for seq in vector]}\n",
    "\n",
    "print('Maximum length:', max(seq_len['length']))\n",
    "print('Minimum length:', min(seq_len['length']))\n",
    "\n",
    "fig, ax = plt.subplots(1, 2, figsize=(12,4))\n",
    "sns.histplot(ax=ax[0], data=seq_len, x='length')\n",
    "sns.boxplot(ax=ax[1], data=seq_len, x='length')\n",
    "plt.suptitle('Length of Sequences', fontsize=16)\n",
    "plt.tight_layout()\n",
    "plt.show()"
   ]
  },
  {
   "cell_type": "markdown",
   "metadata": {},
   "source": [
    "학습 데이터를 동일한 길이로 맞추기 위해 전체 길이 분포를 시각화했을 때,   \n",
    "최대 길이를 기준으로 패딩을 적용 시 공간의 낭비가 심할 것으로 예상"
   ]
  },
  {
   "cell_type": "code",
   "execution_count": 9,
   "metadata": {},
   "outputs": [
    {
     "name": "stdout",
     "output_type": "stream",
     "text": [
      "Padding size: 320\n"
     ]
    }
   ],
   "source": [
    "Q1 = np.percentile(seq_len['length'], 25)\n",
    "Q3 = np.percentile(seq_len['length'], 75)\n",
    "IQR = Q3 - Q1\n",
    "outlier = 1.5 * IQR\n",
    "pad_size = int(round(Q3 + outlier, -1))\n",
    "print('Padding size:', pad_size)"
   ]
  },
  {
   "cell_type": "markdown",
   "metadata": {},
   "source": [
    "IQR을 활용한 이상치 탐색 기법을 활용해 적절한 패딩 길이 지정"
   ]
  },
  {
   "cell_type": "code",
   "execution_count": 10,
   "metadata": {},
   "outputs": [],
   "source": [
    "padded = pad_sequences(vector, padding='post', truncating='post', maxlen=pad_size+1)\n",
    "train_X = padded[:,:-1]\n",
    "train_y = padded[:,1:]"
   ]
  },
  {
   "cell_type": "markdown",
   "metadata": {},
   "source": [
    "Char RNN을 학습시키기 위해 다음 단어에 해당하는 값을 라벨로 지정"
   ]
  },
  {
   "cell_type": "code",
   "execution_count": 11,
   "metadata": {},
   "outputs": [
    {
     "name": "stdout",
     "output_type": "stream",
     "text": [
      "X sample: [ 89  16  27  95  38 101 102 103  26 104] ...\n",
      "y sample: [ 16  27  95  38 101 102 103  26 104  39] ...\n",
      "--------------------------------------------------\n",
      "X sample decoded: G3-A(Bcd=e)|f4(g2dB)|({d}c3-B)G2-E2|F4(D2=E^F)|[SEP]G3-A(Bcd=e)|f4d2-f2|(g2a2b2).g2|{b}(a2g2f2).d2|[SEP](d2{ed}c2)B2B2|(A2G2{AG}F2).D2|(GABc)(d2{ed}c>A)|G2G2G2z||[SEP]G|B2c2(dcAB)|G2G2G3G|B2d2(gfdc)|d2g2(g3ga)|[SEP](bagf)(gd)d>c|(B2AG)F-D.D2|(GABc)d2d2|(bgfd)cA.F2|[SEP]G2A2(B2{cB}AG)|A3-GF2-D2|(GABc)(d2{ed}c>A)|G2G2G2z2||\n",
      "y sample decoded: 3-A(Bcd=e)|f4(g2dB)|({d}c3-B)G2-E2|F4(D2=E^F)|[SEP]G3-A(Bcd=e)|f4d2-f2|(g2a2b2).g2|{b}(a2g2f2).d2|[SEP](d2{ed}c2)B2B2|(A2G2{AG}F2).D2|(GABc)(d2{ed}c>A)|G2G2G2z||[SEP]G|B2c2(dcAB)|G2G2G3G|B2d2(gfdc)|d2g2(g3ga)|[SEP](bagf)(gd)d>c|(B2AG)F-D.D2|(GABc)d2d2|(bgfd)cA.F2|[SEP]G2A2(B2{cB}AG)|A3-GF2-D2|(GABc)(d2{ed}c>A)|G2G2G2z2||\n"
     ]
    }
   ],
   "source": [
    "print('X sample:', train_X[0][:10], '...')\n",
    "print('y sample:', train_y[0][:10], '...')\n",
    "print('-'*50)\n",
    "print('X sample decoded:', ''.join([idx2word[i] for i in train_X[0] if i != 0]))\n",
    "print('y sample decoded:', ''.join([idx2word[i] for i in train_y[0] if i != 0]))"
   ]
  },
  {
   "cell_type": "markdown",
   "metadata": {},
   "source": [
    "### One-Hot Encoding"
   ]
  },
  {
   "cell_type": "code",
   "execution_count": 12,
   "metadata": {},
   "outputs": [
    {
     "name": "stdout",
     "output_type": "stream",
     "text": [
      "train_X shape: (4757, 320, 109)\n",
      "train_y shape: (4757, 320, 109)\n"
     ]
    }
   ],
   "source": [
    "train_X = to_categorical(train_X, num_classes=vocab_size)\n",
    "train_y = to_categorical(train_y, num_classes=vocab_size)\n",
    "\n",
    "print('train_X shape:', train_X.shape)\n",
    "print('train_y shape:', train_y.shape)"
   ]
  },
  {
   "cell_type": "markdown",
   "metadata": {},
   "source": [
    "## Modeling"
   ]
  },
  {
   "cell_type": "markdown",
   "metadata": {},
   "source": [
    "### Set Checkpoint Path"
   ]
  },
  {
   "cell_type": "code",
   "execution_count": 39,
   "metadata": {},
   "outputs": [],
   "source": [
    "from datetime import datetime\n",
    "now = datetime.now().strftime('%y%m%d_%H%M%S')\n",
    "\n",
    "model_dir = './model'\n",
    "save_dir = os.path.join(model_dir, now)\n",
    "\n",
    "if not(os.path.isdir(model_dir)):\n",
    "    os.mkdir(model_dir)\n",
    "os.mkdir(save_dir)\n",
    "\n",
    "model_path = save_dir + '/{epoch:02d}-{accuracy:.4f}.hdf5'"
   ]
  },
  {
   "cell_type": "markdown",
   "metadata": {},
   "source": [
    "### Many-to-One Char RNN"
   ]
  },
  {
   "cell_type": "code",
   "execution_count": null,
   "metadata": {},
   "outputs": [],
   "source": [
    "from tensorflow.keras.models import Sequential\n",
    "from tensorflow.keras.layers import Dense, LSTM, TimeDistributed\n",
    "from tensorflow.keras.callbacks import ModelCheckpoint, LearningRateScheduler, EarlyStopping\n",
    "\n",
    "hidden_units = 512\n",
    "\n",
    "model = Sequential()\n",
    "model.add(LSTM(hidden_units, input_shape=(None, train_X.shape[2]), return_sequences=True))\n",
    "model.add(LSTM(hidden_units, return_sequences=True))\n",
    "model.add(TimeDistributed(Dense(vocab_size, activation='softmax')))\n",
    "\n",
    "model.compile(loss='categorical_crossentropy', optimizer='adam', metrics=['loss'])\n",
    "early_stopping = EarlyStopping(monitor='loss', patience=3)\n",
    "cb_checkpoint = ModelCheckpoint(filepath=model_path, monitor='accuracy',\n",
    "                                verbose=1, save_best_only=True)\n",
    "history = model.fit(train_X, train_y, epochs=100, callbacks=[early_stopping, cb_checkpoint])"
   ]
  },
  {
   "cell_type": "code",
   "execution_count": 42,
   "metadata": {},
   "outputs": [],
   "source": [
    "model = load_model('model/220708_154215/28-0.9972.hdf5')"
   ]
  },
  {
   "cell_type": "code",
   "execution_count": 15,
   "metadata": {},
   "outputs": [
    {
     "data": {
      "image/png": "[encoded data removed]",
      "text/plain": [
       "<Figure size 720x288 with 2 Axes>"
      ]
     },
     "metadata": {
      "needs_background": "light"
     },
     "output_type": "display_data"
    }
   ],
   "source": [
    "fig, ax = plt.subplots(1, 2, figsize=(10,4))\n",
    "ax[0].plot(history.history['loss'])\n",
    "ax[0].set_title('loss')\n",
    "ax[1].plot(history.history['accuracy'])\n",
    "ax[1].set_title('accuracy')\n",
    "plt.tight_layout()\n",
    "plt.show()"
   ]
  },
  {
   "cell_type": "code",
   "execution_count": 13,
   "metadata": {},
   "outputs": [],
   "source": [
    "def sequence_encoding(seq: str):\n",
    "    seq = re.sub(pattern, lambda match: f' {match.group(0)} ', seq).split()\n",
    "    vector = [[word2vec[char] for char in seq if char in custom_vocab]]\n",
    "    padded = pad_sequences(vector, padding='post', truncating='post', maxlen=pad_size)\n",
    "    return to_categorical(padded, num_classes=vocab_size)"
   ]
  },
  {
   "cell_type": "code",
   "execution_count": 36,
   "metadata": {},
   "outputs": [],
   "source": [
    "def sentence_generation(model, word2vec, seq_length, seed_text, n):\n",
    "\n",
    "    # 초기 시퀀스\n",
    "    init_text = seed_text\n",
    "    sentence = ''\n",
    "\n",
    "    # 다음 문자 예측은 총 n번만 반복.\n",
    "    for _ in range(n):\n",
    "        sequence = re.sub(pattern, lambda match: f' {match.group(0)} ', seed_text).split()\n",
    "        encoded = [word2vec[char] for char in sequence if char in custom_vocab]\n",
    "        padded = pad_sequences([encoded], padding='post', maxlen=seq_length)\n",
    "        padded = to_categorical(padded, num_classes=vocab_size)\n",
    "\n",
    "        # 입력한 X(현재 시퀀스)에 대해서 y를 예측하고 y(예측한 문자)를 result에 저장.\n",
    "        result = model.predict(padded, verbose=0)\n",
    "        result = np.argmax(result, axis=1)\n",
    "\n",
    "        # 현재 시퀀스 + 예측 문자를 현재 시퀀스로 변경\n",
    "        seed_text = seed_text + idx2word[result[0]]\n",
    "\n",
    "        # 예측 문자를 문장에 저장\n",
    "        sentence = sentence + idx2word[result[0]]\n",
    "\n",
    "    # n번의 다음 문자 예측이 끝나면 최종 완성된 문장을 리턴.\n",
    "    sentence = init_text + sentence\n",
    "    return sentence"
   ]
  },
  {
   "cell_type": "code",
   "execution_count": 37,
   "metadata": {},
   "outputs": [
    {
     "name": "stdout",
     "output_type": "stream",
     "text": [
      "G3-AFmFmFmFmFm2Bm2A2DmDmDmDmDmDmDmDmDmDm[PAD][PAD]LLLLLLLD#D#D#D#3B#mB#mB#m)),,,,DbmDbmalto1alto155alto1alto1GbGb8888888OOOO.O:LLLLLEmEmBBBD#D#D#\n"
     ]
    }
   ],
   "source": [
    "print(sentence_generation(model, word2vec, pad_size, 'G3-A', 80))"
   ]
  },
  {
   "cell_type": "code",
   "execution_count": null,
   "metadata": {},
   "outputs": [],
   "source": []
  }
 ],
 "metadata": {
  "kernelspec": {
   "display_name": "Python 3.8.9 ('base')",
   "language": "python",
   "name": "python3"
  },
  "language_info": {
   "codemirror_mode": {
    "name": "ipython",
    "version": 3
   },
   "file_extension": ".py",
   "mimetype": "text/x-python",
   "name": "python",
   "nbconvert_exporter": "python",
   "pygments_lexer": "ipython3",
   "version": "3.8.9"
  },
  "orig_nbformat": 4,
  "vscode": {
   "interpreter": {
    "hash": "c6e433785c256eddf1a97ef126132771859332314632db55c9adf99951004659"
   }
  }
 },
 "nbformat": 4,
 "nbformat_minor": 2
}
