{
 "cells": [
  {
   "cell_type": "markdown",
   "metadata": {},
   "source": [
    "# Scraping ABC notation files\n",
    "- total: about 5143 tunes\n",
    "- more abc tune collections in [here](https://abcnotation.com/tunes)"
   ]
  },
  {
   "cell_type": "code",
   "execution_count": null,
   "metadata": {},
   "outputs": [],
   "source": [
    "from bs4 import BeautifulSoup\n",
    "from urllib import request\n",
    "import requests"
   ]
  },
  {
   "cell_type": "markdown",
   "metadata": {},
   "source": [
    "### [Kaggle] [Shivam Raj's Data](https://www.kaggle.com/datasets/raj5287/abc-notation-of-tunes)\n",
    "- abc notation of tunes (1850 tunes)"
   ]
  },
  {
   "cell_type": "code",
   "execution_count": null,
   "metadata": {},
   "outputs": [
    {
     "name": "stdout",
     "output_type": "stream",
     "text": [
      "X: 1\n",
      "T: The Enchanted Valley\n",
      "M: 2/4\n",
      "L: 1/16\n",
      "B: \"O'Neill's 1\"\n",
      "N: \"Very slow\" \"collected by J. O'Neill\"\n",
      "N:\n",
      "Z: \"Transcribed by Norbert Paap, norbertp@bdu.uva.nl\"\n",
      "Z:\n",
      "K:Gm\n",
      "G3-A (Bcd=e) | f4 (g2dB) | ({d}c3-B) G2-E2 | F4 (D2=E^F) |\n",
      "G3-A (Bcd=e) | f4 d2-f2 | (g2a2 b2).g2 | {b}(a2g2 f2).d2 |\n",
      "(d2{ed}c2) B2B2 | (A2G2 {AG}F2).D2 | (GABc) (d2{ed}c>A) | G2G2 G2z ||\n",
      "G | B2c2 (dcAB) | G2G2 G3G | B2d2 (gfdc) | d2g2 (g3ga) |\n",
      "(bagf) (gd)d>c | (B2AG) F-D.D2 | (GABc) d2d2 | (bgfd) cA.F2 |\n",
      "G2A2 (B2{cB}AG) | A3-G F2-D2 | (GABc) (d2{ed}c>A) | G2G2 G2z2 ||\n"
     ]
    }
   ],
   "source": [
    "with open('data/kaggle.txt','r') as f:\n",
    "    for i, line in enumerate(f.readlines()):\n",
    "        if i > 15:\n",
    "            break\n",
    "        print(line.strip())"
   ]
  },
  {
   "cell_type": "markdown",
   "metadata": {},
   "source": [
    "### [abcnotation.com] [Jack Campin's homepage](http://www.campin.me.uk/)\n",
    "- Aird's Airs (1180 tunes)"
   ]
  },
  {
   "cell_type": "code",
   "execution_count": null,
   "metadata": {},
   "outputs": [],
   "source": [
    "url = 'http://www.campin.me.uk/Aird/'\n",
    "for i in range(1,7):\n",
    "    file_name = f'Aird-v{i}.abc'\n",
    "    request.urlretrieve(url+file_name, f'data/jack/{file_name}')"
   ]
  },
  {
   "cell_type": "code",
   "execution_count": null,
   "metadata": {},
   "outputs": [
    {
     "name": "stdout",
     "output_type": "stream",
     "text": [
      "X:0201\n",
      "T:My Love She's but a Lassie yet.\n",
      "M:2/4\n",
      "L:1/8\n",
      "Q:1/4=104\n",
      "I: :: ::\n",
      "Z:Jack Campin * www.campin.me.uk * 2009\n",
      "K:D\n",
      "B/c/ |d`DFD|dDD      (B/c/)| dDFD          |eEE\n",
      "(B/c/ |d)DFD|dg``f>e        |(d/c/``B/A/) Bc|dDD:|\n",
      "(f/g/)|a`fge|fd (d/e/)(f/g/)| afgf          |eEE\n",
      "(f/g/)|a`fge|fd``ec         |(d/c/)(B/A/) Bc|dDD:|\n"
     ]
    }
   ],
   "source": [
    "with open('data/jack/Aird-v2.abc','r') as f:\n",
    "    for i, line in enumerate(f.readlines()):\n",
    "        if i > 11:\n",
    "            break\n",
    "        print(line.strip())"
   ]
  },
  {
   "cell_type": "markdown",
   "metadata": {},
   "source": [
    "### [abcnotation.com] [James Allwright's hompage](http://abc.sourceforge.net/NMD/)\n",
    "- Jigs (340 tunes)\n",
    "- Hornpipes (65 tunes)\n",
    "- Morris (31 tunes)\n",
    "- Playford (15 tunes)\n",
    "- Reels A-C (81 tunes)\n",
    "- Reels D-G (84 tunes)\n",
    "- Reels H-L (93 tunes)\n",
    "- Reels M-Q (80 tunes)\n",
    "- Reels R-T (92 tunes)\n",
    "- Reels U-Z (34 tunes)\n",
    "- Slip Jigs (11 tunes)\n",
    "- Waltzes (52 tunes)\n",
    "- Chrismas Carols and Songs (13 tunes)\n",
    "- Ashover collection (46 tunes) "
   ]
  },
  {
   "cell_type": "code",
   "execution_count": null,
   "metadata": {},
   "outputs": [],
   "source": [
    "url = 'http://abc.sourceforge.net/NMD/'\n",
    "response = requests.get(url)\n",
    "source = BeautifulSoup(response.content, 'html.parser')\n",
    "\n",
    "content = source.select_one('body > div > div.content > ul')\n",
    "text_files = content.find_all('a')\n",
    "text_files = [text_file['href'].replace('./',url) for text_file in text_files]\n",
    "for text_file in text_files:\n",
    "    file_name = text_file.split('/')[-1]\n",
    "    request.urlretrieve(text_file, 'data/james/'+file_name)"
   ]
  },
  {
   "cell_type": "code",
   "execution_count": null,
   "metadata": {},
   "outputs": [
    {
     "name": "stdout",
     "output_type": "stream",
     "text": [
      "\n",
      "X: 1\n",
      "T:A and A's Waltz\n",
      "% Nottingham Music Database\n",
      "S:Mick Peat\n",
      "M:3/4\n",
      "L:1/4\n",
      "K:G\n",
      "e|\"G\"d2B|\"D\"A3/2B/2c|\"G\"B2G|\"D\"A2e|\"G\"d2B|\"D\"A3/2B/2c|[M:2/4]\"F\"B=F|[M:3/4]\"G\"G2e:|\n",
      "\"C\"g2e|\"Bb\"=f2d|\"F\"c2A|=F2e|\"C\"g2e|\"Bb\"=f2d|[M:2/4]\"F\"cA|[M:3/4] [1 \"G\"G2e:| [2\"G\"G2z||\n"
     ]
    }
   ],
   "source": [
    "with open('data/james/ashover.txt','r') as f:\n",
    "    for i, line in enumerate(f.readlines()):\n",
    "        if i > 9:\n",
    "            break\n",
    "        print(line.strip())"
   ]
  },
  {
   "cell_type": "markdown",
   "metadata": {},
   "source": [
    "### [abcnotation.com] [Nigel Gatherer's homepage](http://www.nigelgatherer.com/tunes/abc.html)\n",
    "- Tunebook (1076 tunes)"
   ]
  },
  {
   "cell_type": "code",
   "execution_count": null,
   "metadata": {},
   "outputs": [],
   "source": [
    "url = 'http://www.nigelgatherer.com/tunes/abc/'\n",
    "for i in range(1,22):\n",
    "    book_num = str(i).zfill(2)\n",
    "    file_name = f'tb{book_num}.abc'\n",
    "    request.urlretrieve(url+file_name, f'data/nigel/{file_name}')"
   ]
  },
  {
   "cell_type": "code",
   "execution_count": null,
   "metadata": {},
   "outputs": [
    {
     "name": "stdout",
     "output_type": "stream",
     "text": [
      "X:001\n",
      "T:The Duke of Buccleugh's Tune\n",
      "B:Apollo's Banquet, 1990, via...\n",
      "B:The Popular Songs and Melodies of Scotland\n",
      "Z:Nigel Gatherer\n",
      "M:2/4\n",
      "L:1/8\n",
      "K:G\n",
      "G<EG<E|A>GAB|G<EG>A|B2 d z|\n",
      "GE/F/ GE|A>GAB|G<EG>A|B2 d z|]\n"
     ]
    }
   ],
   "source": [
    "with open('data/nigel/tb01.abc','r') as f:\n",
    "    for i, line in enumerate(f.readlines()):\n",
    "        if i > 9:\n",
    "            break\n",
    "        print(line.strip())"
   ]
  }
 ],
 "metadata": {
  "language_info": {
   "name": "python"
  },
  "orig_nbformat": 4
 },
 "nbformat": 4,
 "nbformat_minor": 2
}
