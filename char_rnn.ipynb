{
 "cells": [
  {
   "cell_type": "markdown",
   "metadata": {},
   "source": [
    "# Char RNN"
   ]
  },
  {
   "cell_type": "code",
   "execution_count": 1,
   "metadata": {},
   "outputs": [],
   "source": [
    "import warnings\n",
    "warnings.filterwarnings(\"ignore\")\n",
    "\n",
    "import numpy as np\n",
    "import pandas as pd\n",
    "import matplotlib.pyplot as plt\n",
    "import seaborn as sns\n",
    "\n",
    "from tensorflow.keras.utils import to_categorical\n",
    "from collections import Counter"
   ]
  },
  {
   "cell_type": "code",
   "execution_count": 2,
   "metadata": {},
   "outputs": [
    {
     "data": {
      "text/html": [
       "<div>\n",
       "<style scoped>\n",
       "    .dataframe tbody tr th:only-of-type {\n",
       "        vertical-align: middle;\n",
       "    }\n",
       "\n",
       "    .dataframe tbody tr th {\n",
       "        vertical-align: top;\n",
       "    }\n",
       "\n",
       "    .dataframe thead th {\n",
       "        text-align: right;\n",
       "    }\n",
       "</style>\n",
       "<table border=\"1\" class=\"dataframe\">\n",
       "  <thead>\n",
       "    <tr style=\"text-align: right;\">\n",
       "      <th></th>\n",
       "      <th>T</th>\n",
       "      <th>M</th>\n",
       "      <th>L</th>\n",
       "      <th>K</th>\n",
       "      <th>body</th>\n",
       "    </tr>\n",
       "  </thead>\n",
       "  <tbody>\n",
       "    <tr>\n",
       "      <th>0</th>\n",
       "      <td>The Enchanted Valley</td>\n",
       "      <td>2/4</td>\n",
       "      <td>1/16</td>\n",
       "      <td>Gm</td>\n",
       "      <td>G3-A (Bcd=e) | f4 (g2dB) | ({d}c3-B) G2-E2 | F...</td>\n",
       "    </tr>\n",
       "    <tr>\n",
       "      <th>1</th>\n",
       "      <td>Fare You Well</td>\n",
       "      <td>2/4</td>\n",
       "      <td>1/16</td>\n",
       "      <td>D</td>\n",
       "      <td>f-g | a3-b g3-a | f4 e3-d | d3-c A3-B | c4 d3-...</td>\n",
       "    </tr>\n",
       "    <tr>\n",
       "      <th>2</th>\n",
       "      <td>The Little Heathy Hill</td>\n",
       "      <td>C</td>\n",
       "      <td>1/8</td>\n",
       "      <td>Gm</td>\n",
       "      <td>B/2-c/2 | d2 d&gt;-c B2 A-B | (GBAG) F2 D-F | (G&gt;...</td>\n",
       "    </tr>\n",
       "    <tr>\n",
       "      <th>3</th>\n",
       "      <td>The Little Girl of my Heart</td>\n",
       "      <td>4/4</td>\n",
       "      <td>1/8</td>\n",
       "      <td>D</td>\n",
       "      <td>F-G | A-dd&gt;-c d2 cd | e-fgg (f2 d&gt;e) | f-d (c/...</td>\n",
       "    </tr>\n",
       "    <tr>\n",
       "      <th>4</th>\n",
       "      <td>The Fun at Donnybrook</td>\n",
       "      <td>6/8</td>\n",
       "      <td>1/8</td>\n",
       "      <td>Gm</td>\n",
       "      <td>B/2-A/2 | G&gt;FD C&gt;D^F | G3z2B/2-c/2 | B&gt;cd cAG ...</td>\n",
       "    </tr>\n",
       "  </tbody>\n",
       "</table>\n",
       "</div>"
      ],
      "text/plain": [
       "                             T    M     L   K  \\\n",
       "0         The Enchanted Valley  2/4  1/16  Gm   \n",
       "1                Fare You Well  2/4  1/16   D   \n",
       "2       The Little Heathy Hill    C   1/8  Gm   \n",
       "3  The Little Girl of my Heart  4/4   1/8   D   \n",
       "4        The Fun at Donnybrook  6/8   1/8  Gm   \n",
       "\n",
       "                                                body  \n",
       "0  G3-A (Bcd=e) | f4 (g2dB) | ({d}c3-B) G2-E2 | F...  \n",
       "1  f-g | a3-b g3-a | f4 e3-d | d3-c A3-B | c4 d3-...  \n",
       "2  B/2-c/2 | d2 d>-c B2 A-B | (GBAG) F2 D-F | (G>...  \n",
       "3  F-G | A-dd>-c d2 cd | e-fgg (f2 d>e) | f-d (c/...  \n",
       "4  B/2-A/2 | G>FD C>D^F | G3z2B/2-c/2 | B>cd cAG ...  "
      ]
     },
     "execution_count": 2,
     "metadata": {},
     "output_type": "execute_result"
    }
   ],
   "source": [
    "df = pd.read_csv('data/abc_char.csv')\n",
    "df.head()"
   ]
  },
  {
   "cell_type": "markdown",
   "metadata": {},
   "source": [
    "## 문자 집합 생성"
   ]
  },
  {
   "cell_type": "code",
   "execution_count": 3,
   "metadata": {},
   "outputs": [
    {
     "name": "stdout",
     "output_type": "stream",
     "text": [
      "[' ', \"'\", '(', ')', '*', '+', ',', '-', '.', '/', '0', '1', '2', '3', '4', '5', '6', '7', '8', '9', ':', ';', '<', '=', '>', 'A', 'B', 'C', 'D', 'E', 'F', 'G', 'H', 'I', 'K', 'L', 'M', 'N', 'O', 'P', 'Q', 'R', 'S', 'T', 'U', 'V', 'X', 'Z', '[', ']', '^', '_', '`', 'a', 'b', 'c', 'd', 'e', 'f', 'g', 'h', 'i', 'k', 'l', 'm', 'n', 'o', 'p', 'r', 's', 't', 'u', 'v', 'w', 'x', 'y', 'z', '{', '|', '}', '~']\n"
     ]
    }
   ],
   "source": [
    "char_vocab = sorted(set(''.join(df['body'].tolist())))\n",
    "vocab_size = len(char_vocab)\n",
    "print(char_vocab)"
   ]
  },
  {
   "cell_type": "code",
   "execution_count": 4,
   "metadata": {},
   "outputs": [
    {
     "name": "stdout",
     "output_type": "stream",
     "text": [
      "{' ': 0, \"'\": 1, '(': 2, ')': 3, '*': 4, '+': 5, ',': 6, '-': 7, '.': 8, '/': 9, '0': 10, '1': 11, '2': 12, '3': 13, '4': 14, '5': 15, '6': 16, '7': 17, '8': 18, '9': 19, ':': 20, ';': 21, '<': 22, '=': 23, '>': 24, 'A': 25, 'B': 26, 'C': 27, 'D': 28, 'E': 29, 'F': 30, 'G': 31, 'H': 32, 'I': 33, 'K': 34, 'L': 35, 'M': 36, 'N': 37, 'O': 38, 'P': 39, 'Q': 40, 'R': 41, 'S': 42, 'T': 43, 'U': 44, 'V': 45, 'X': 46, 'Z': 47, '[': 48, ']': 49, '^': 50, '_': 51, '`': 52, 'a': 53, 'b': 54, 'c': 55, 'd': 56, 'e': 57, 'f': 58, 'g': 59, 'h': 60, 'i': 61, 'k': 62, 'l': 63, 'm': 64, 'n': 65, 'o': 66, 'p': 67, 'r': 68, 's': 69, 't': 70, 'u': 71, 'v': 72, 'w': 73, 'x': 74, 'y': 75, 'z': 76, '{': 77, '|': 78, '}': 79, '~': 80}\n"
     ]
    }
   ],
   "source": [
    "char_to_index = dict((char, index) for index, char in enumerate(char_vocab))\n",
    "print(char_to_index)"
   ]
  },
  {
   "cell_type": "code",
   "execution_count": 5,
   "metadata": {},
   "outputs": [],
   "source": [
    "index_to_char = {}\n",
    "for key, value in char_to_index.items():\n",
    "    index_to_char[value] = key"
   ]
  },
  {
   "cell_type": "markdown",
   "metadata": {},
   "source": [
    "## 학습 데이터 생성"
   ]
  },
  {
   "cell_type": "code",
   "execution_count": 6,
   "metadata": {},
   "outputs": [],
   "source": [
    "train_X = 'appl' # 입력 시퀀스\n",
    "train_y = 'pple' # 예측해야하는 시퀀스"
   ]
  },
  {
   "cell_type": "markdown",
   "metadata": {},
   "source": [
    "입력 시퀀스에 대해 오른쪽으로 1칸 쉬프트한 시퀀스를 예측해야하는 라벨로 지정"
   ]
  },
  {
   "cell_type": "code",
   "execution_count": 7,
   "metadata": {},
   "outputs": [],
   "source": [
    "train = df['body'].tolist()"
   ]
  },
  {
   "cell_type": "markdown",
   "metadata": {},
   "source": [
    "### 시퀀스 길이 지정"
   ]
  },
  {
   "cell_type": "code",
   "execution_count": 8,
   "metadata": {},
   "outputs": [
    {
     "name": "stdout",
     "output_type": "stream",
     "text": [
      "Minimum sequence length: 8\n",
      "Maximum sequence length: 2060\n"
     ]
    }
   ],
   "source": [
    "print('Minimum sequence length:', min([len(seq) for seq in train]))\n",
    "print('Maximum sequence length:', max([len(seq) for seq in train]))"
   ]
  },
  {
   "cell_type": "markdown",
   "metadata": {},
   "source": [
    "적절한 시퀀스 길이를 설정하기 위해 최대, 최소 시퀀스 길이를 확인   \n",
    "둘 사이의 간격이 너무 크기 때문에 일부 데이터를 제거하기 위해 우선 길이 분포를 시각화"
   ]
  },
  {
   "cell_type": "code",
   "execution_count": 9,
   "metadata": {},
   "outputs": [
    {
     "data": {
      "text/html": [
       "<div>\n",
       "<style scoped>\n",
       "    .dataframe tbody tr th:only-of-type {\n",
       "        vertical-align: middle;\n",
       "    }\n",
       "\n",
       "    .dataframe tbody tr th {\n",
       "        vertical-align: top;\n",
       "    }\n",
       "\n",
       "    .dataframe thead th {\n",
       "        text-align: right;\n",
       "    }\n",
       "</style>\n",
       "<table border=\"1\" class=\"dataframe\">\n",
       "  <thead>\n",
       "    <tr style=\"text-align: right;\">\n",
       "      <th></th>\n",
       "      <th>T</th>\n",
       "      <th>M</th>\n",
       "      <th>L</th>\n",
       "      <th>K</th>\n",
       "      <th>body</th>\n",
       "      <th>length</th>\n",
       "    </tr>\n",
       "  </thead>\n",
       "  <tbody>\n",
       "    <tr>\n",
       "      <th>0</th>\n",
       "      <td>The Enchanted Valley</td>\n",
       "      <td>2/4</td>\n",
       "      <td>1/16</td>\n",
       "      <td>Gm</td>\n",
       "      <td>G3-A (Bcd=e) | f4 (g2dB) | ({d}c3-B) G2-E2 | F...</td>\n",
       "      <td>371</td>\n",
       "    </tr>\n",
       "    <tr>\n",
       "      <th>1</th>\n",
       "      <td>Fare You Well</td>\n",
       "      <td>2/4</td>\n",
       "      <td>1/16</td>\n",
       "      <td>D</td>\n",
       "      <td>f-g | a3-b g3-a | f4 e3-d | d3-c A3-B | c4 d3-...</td>\n",
       "      <td>282</td>\n",
       "    </tr>\n",
       "    <tr>\n",
       "      <th>2</th>\n",
       "      <td>The Little Heathy Hill</td>\n",
       "      <td>C</td>\n",
       "      <td>1/8</td>\n",
       "      <td>Gm</td>\n",
       "      <td>B/2-c/2 | d2 d&gt;-c B2 A-B | (GBAG) F2 D-F | (G&gt;...</td>\n",
       "      <td>275</td>\n",
       "    </tr>\n",
       "    <tr>\n",
       "      <th>3</th>\n",
       "      <td>The Little Girl of my Heart</td>\n",
       "      <td>4/4</td>\n",
       "      <td>1/8</td>\n",
       "      <td>D</td>\n",
       "      <td>F-G | A-dd&gt;-c d2 cd | e-fgg (f2 d&gt;e) | f-d (c/...</td>\n",
       "      <td>304</td>\n",
       "    </tr>\n",
       "    <tr>\n",
       "      <th>4</th>\n",
       "      <td>The Fun at Donnybrook</td>\n",
       "      <td>6/8</td>\n",
       "      <td>1/8</td>\n",
       "      <td>Gm</td>\n",
       "      <td>B/2-A/2 | G&gt;FD C&gt;D^F | G3z2B/2-c/2 | B&gt;cd cAG ...</td>\n",
       "      <td>147</td>\n",
       "    </tr>\n",
       "  </tbody>\n",
       "</table>\n",
       "</div>"
      ],
      "text/plain": [
       "                             T    M     L   K  \\\n",
       "0         The Enchanted Valley  2/4  1/16  Gm   \n",
       "1                Fare You Well  2/4  1/16   D   \n",
       "2       The Little Heathy Hill    C   1/8  Gm   \n",
       "3  The Little Girl of my Heart  4/4   1/8   D   \n",
       "4        The Fun at Donnybrook  6/8   1/8  Gm   \n",
       "\n",
       "                                                body  length  \n",
       "0  G3-A (Bcd=e) | f4 (g2dB) | ({d}c3-B) G2-E2 | F...     371  \n",
       "1  f-g | a3-b g3-a | f4 e3-d | d3-c A3-B | c4 d3-...     282  \n",
       "2  B/2-c/2 | d2 d>-c B2 A-B | (GBAG) F2 D-F | (G>...     275  \n",
       "3  F-G | A-dd>-c d2 cd | e-fgg (f2 d>e) | f-d (c/...     304  \n",
       "4  B/2-A/2 | G>FD C>D^F | G3z2B/2-c/2 | B>cd cAG ...     147  "
      ]
     },
     "execution_count": 9,
     "metadata": {},
     "output_type": "execute_result"
    }
   ],
   "source": [
    "len_df = df.copy()\n",
    "len_df['length'] = len_df['body'].apply(lambda x: len(x))\n",
    "len_df.head()"
   ]
  },
  {
   "cell_type": "code",
   "execution_count": 10,
   "metadata": {},
   "outputs": [
    {
     "data": {
      "image/png": "[encoded data removed]",
      "text/plain": [
       "<Figure size 1440x288 with 3 Axes>"
      ]
     },
     "metadata": {
      "needs_background": "light"
     },
     "output_type": "display_data"
    }
   ],
   "source": [
    "fig, ax = plt.subplots(1, 3, figsize=(20,4))\n",
    "sns.histplot(ax=ax[0], data=len_df, x='length', bins=100)\n",
    "sns.boxplot(ax=ax[1], data=len_df, x='length')\n",
    "sns.boxplot(ax=ax[2], data=len_df[len_df['length'] < 100], x='length')\n",
    "plt.suptitle('Length of Sequences', fontsize=16)\n",
    "plt.tight_layout()\n",
    "plt.show()"
   ]
  },
  {
   "cell_type": "code",
   "execution_count": 11,
   "metadata": {},
   "outputs": [
    {
     "name": "stdout",
     "output_type": "stream",
     "text": [
      "Short sequences: 30\n"
     ]
    }
   ],
   "source": [
    "len_df = len_df[len_df['length'] > 80]\n",
    "print('Short sequences:', len(df)-len(len_df))"
   ]
  },
  {
   "cell_type": "markdown",
   "metadata": {},
   "source": [
    "데이터 손실이 적은 시퀀스의 길이를 80으로 설정하고, 길이가 80을 넘지 못하는 30개의 시퀀스를 제거"
   ]
  },
  {
   "cell_type": "markdown",
   "metadata": {},
   "source": [
    "### 정수 인코딩"
   ]
  },
  {
   "cell_type": "code",
   "execution_count": 12,
   "metadata": {},
   "outputs": [],
   "source": [
    "train = len_df['body'].tolist()\n",
    "seq_length = 80\n",
    "\n",
    "train_X = list()\n",
    "train_y = list()\n",
    "\n",
    "for seq in train:\n",
    "    for i in range((len(seq)-1)//seq_length):\n",
    "        # 0:80 -> 80:160 -> 160:240로 loop를 돌면서 문장 샘플을 1개씩 pick\n",
    "        X_sample = seq[i*seq_length:(i+1)*seq_length]\n",
    "\n",
    "        # 정수 인코딩\n",
    "        X_encoded = [char_to_index[c] for c in X_sample]\n",
    "        train_X.append(X_encoded)\n",
    "\n",
    "        # 오른쪽으로 1칸 쉬프트\n",
    "        y_sample = seq[i*seq_length+1: (i+1)*seq_length+1]\n",
    "        y_encoded = [char_to_index[c] for c in y_sample]\n",
    "        train_y.append(y_encoded)"
   ]
  },
  {
   "cell_type": "code",
   "execution_count": 13,
   "metadata": {},
   "outputs": [
    {
     "name": "stdout",
     "output_type": "stream",
     "text": [
      "X sample: [31, 13, 7, 25, 0, 2, 26, 55, 56, 23, 57, 3, 0, 78, 0, 58, 14, 0, 2, 59, 12, 56, 26, 3, 0, 78, 0, 2, 77, 56, 79, 55, 13, 7, 26, 3, 0, 31, 12, 7, 29, 12, 0, 78, 0, 30, 14, 0, 2, 28, 12, 23, 29, 50, 30, 3, 0, 78, 21, 31, 13, 7, 25, 0, 2, 26, 55, 56, 23, 57, 3, 0, 78, 0, 58, 14, 0, 56, 12, 7]\n",
      "y sample: [13, 7, 25, 0, 2, 26, 55, 56, 23, 57, 3, 0, 78, 0, 58, 14, 0, 2, 59, 12, 56, 26, 3, 0, 78, 0, 2, 77, 56, 79, 55, 13, 7, 26, 3, 0, 31, 12, 7, 29, 12, 0, 78, 0, 30, 14, 0, 2, 28, 12, 23, 29, 50, 30, 3, 0, 78, 21, 31, 13, 7, 25, 0, 2, 26, 55, 56, 23, 57, 3, 0, 78, 0, 58, 14, 0, 56, 12, 7, 58]\n",
      "--------------------------------------------------\n",
      "X sample decoded: ['G', '3', '-', 'A', ' ', '(', 'B', 'c', 'd', '=', 'e', ')', ' ', '|', ' ', 'f', '4', ' ', '(', 'g', '2', 'd', 'B', ')', ' ', '|', ' ', '(', '{', 'd', '}', 'c', '3', '-', 'B', ')', ' ', 'G', '2', '-', 'E', '2', ' ', '|', ' ', 'F', '4', ' ', '(', 'D', '2', '=', 'E', '^', 'F', ')', ' ', '|', ';', 'G', '3', '-', 'A', ' ', '(', 'B', 'c', 'd', '=', 'e', ')', ' ', '|', ' ', 'f', '4', ' ', 'd', '2', '-']\n",
      "y sample decoded: ['3', '-', 'A', ' ', '(', 'B', 'c', 'd', '=', 'e', ')', ' ', '|', ' ', 'f', '4', ' ', '(', 'g', '2', 'd', 'B', ')', ' ', '|', ' ', '(', '{', 'd', '}', 'c', '3', '-', 'B', ')', ' ', 'G', '2', '-', 'E', '2', ' ', '|', ' ', 'F', '4', ' ', '(', 'D', '2', '=', 'E', '^', 'F', ')', ' ', '|', ';', 'G', '3', '-', 'A', ' ', '(', 'B', 'c', 'd', '=', 'e', ')', ' ', '|', ' ', 'f', '4', ' ', 'd', '2', '-', 'f']\n"
     ]
    }
   ],
   "source": [
    "print('X sample:',train_X[0])\n",
    "print('y sample:',train_y[0])\n",
    "print('-'*50)\n",
    "print('X sample decoded:',[index_to_char[i] for i in train_X[0]])\n",
    "print('y sample decoded:',[index_to_char[i] for i in train_y[0]])"
   ]
  },
  {
   "cell_type": "code",
   "execution_count": 14,
   "metadata": {},
   "outputs": [
    {
     "name": "stdout",
     "output_type": "stream",
     "text": [
      "train_X shape: (12367, 80, 81)\n",
      "train_y shape: (12367, 80, 81)\n"
     ]
    }
   ],
   "source": [
    "train_X = to_categorical(train_X)\n",
    "train_y = to_categorical(train_y)\n",
    "\n",
    "print('train_X shape: {}'.format(train_X.shape)) # 원-핫 인코딩\n",
    "print('train_y shape: {}'.format(train_y.shape)) # 원-핫 인코딩"
   ]
  },
  {
   "cell_type": "markdown",
   "metadata": {},
   "source": [
    "## Modeling"
   ]
  },
  {
   "cell_type": "markdown",
   "metadata": {},
   "source": [
    "### One-to-One Char RNN"
   ]
  },
  {
   "cell_type": "code",
   "execution_count": null,
   "metadata": {},
   "outputs": [],
   "source": [
    "from tensorflow.keras.models import Sequential\n",
    "from tensorflow.keras.layers import Dense, LSTM, TimeDistributed\n",
    "from tensorflow.keras.callbacks import ModelCheckpoint, LearningRateScheduler, EarlyStopping\n",
    "\n",
    "hidden_units = 256\n",
    "\n",
    "model = Sequential()\n",
    "model.add(LSTM(hidden_units, input_shape=(None, train_X.shape[2]), return_sequences=True))\n",
    "model.add(LSTM(hidden_units, return_sequences=True))\n",
    "model.add(TimeDistributed(Dense(vocab_size, activation='softmax')))\n",
    "\n",
    "model.compile(loss='categorical_crossentropy', optimizer='adam', metrics=['accuracy'])\n",
    "# early_stopping = EarlyStopping(monitor='loss', patience=3)\n",
    "# cb_checkpoint = ModelCheckpoint(filepath='model/char_rnn_1to1', monitor='accuracy',\n",
    "#                                 verbose=1, save_best_only=True)\n",
    "\n",
    "history = model.fit(train_X, train_y, epochs=80,) #callbacks=[cb_checkpoint, early_stopping])"
   ]
  },
  {
   "cell_type": "code",
   "execution_count": 33,
   "metadata": {},
   "outputs": [],
   "source": [
    "model.save('char_rnn_1to1.h5')"
   ]
  },
  {
   "cell_type": "code",
   "execution_count": 26,
   "metadata": {},
   "outputs": [
    {
     "data": {
      "image/png": "[encoded data removed]",
      "text/plain": [
       "<Figure size 720x288 with 2 Axes>"
      ]
     },
     "metadata": {
      "needs_background": "light"
     },
     "output_type": "display_data"
    }
   ],
   "source": [
    "fig, ax = plt.subplots(1, 2, figsize=(10,4))\n",
    "ax[0].plot(history.history['loss'])\n",
    "ax[0].set_title('loss')\n",
    "ax[1].plot(history.history['accuracy'])\n",
    "ax[1].set_title('accuracy')\n",
    "plt.tight_layout()\n",
    "plt.show()"
   ]
  },
  {
   "cell_type": "code",
   "execution_count": 47,
   "metadata": {},
   "outputs": [],
   "source": [
    "def sentence_generation(model, length, ix):\n",
    "    # 문자에 대한 랜덤한 정수 생성\n",
    "    # ix = [np.random.randint(vocab_size)]\n",
    "\n",
    "    # 랜덤한 정수로부터 맵핑되는 문자 생성\n",
    "    y_char = [index_to_char[ix[-1]]]\n",
    "    print(ix[-1],'번 문자',y_char[-1],'로 예측을 시작!')\n",
    "\n",
    "    # (1, length, 55) 크기의 X 생성. 즉, LSTM의 입력 시퀀스 생성\n",
    "    X = np.zeros((1, length, vocab_size))\n",
    "\n",
    "    for i in range(length):\n",
    "        # X[0][i][예측한 문자의 인덱스] = 1, 즉, 예측 문자를 다음 입력 시퀀스에 추가\n",
    "        X[0][i][ix[-1]] = 1\n",
    "        print(index_to_char[ix[-1]], end=\"\")\n",
    "        ix = np.argmax(model.predict(X[:, :i+1, :], verbose=0)[0], 1)\n",
    "        y_char.append(index_to_char[ix[-1]])\n",
    "    return ('').join(y_char)"
   ]
  },
  {
   "cell_type": "code",
   "execution_count": 50,
   "metadata": {},
   "outputs": [
    {
     "name": "stdout",
     "output_type": "stream",
     "text": [
      "27 번 문자 C 로 예측을 시작!\n",
      "C|F2 A>G FA``A>c|e2 e>e e2 e>c|A2  A>c c2 e>c|c2  A>c e2     A2 |d3 (cBA) G3;A  C|F2 A>G FA``A>c|e2 e>e e2 e>c|A2  A>c c2 e>c|c2  A>c e2     A2 |d3 (cBA) G3;A   \n"
     ]
    }
   ],
   "source": [
    "result = sentence_generation(model, 80, [27])\n",
    "print(result)"
   ]
  },
  {
   "cell_type": "code",
   "execution_count": 51,
   "metadata": {},
   "outputs": [
    {
     "name": "stdout",
     "output_type": "stream",
     "text": [
      "55 번 문자 c 로 예측을 시작!\n",
      "c|BGGA FGAc|BGd>d Gdc:|;cAAe fddf|gfdB cAGF|GB B/B/B (Bc)de|fgaf     gedc|;BGcG c|BGGA FGAc|BGd>d Gdc:|;cAAe fddf|gfdB cAGF|GB B/B/B (Bc)de|fgaf     gedc|;BGcG A\n"
     ]
    }
   ],
   "source": [
    "result = sentence_generation(model, 80, [55])\n",
    "print(result)"
   ]
  },
  {
   "cell_type": "code",
   "execution_count": 52,
   "metadata": {},
   "outputs": [
    {
     "name": "stdout",
     "output_type": "stream",
     "text": [
      "31 번 문자 G 로 예측을 시작!\n",
      "G2 G>G B2 D>B | G>AB>d e>dB<G | A2 A>B A2 :|;B>c | d>BG>B d>BB>g | b2g2 e>fg>e |G2 G>G B2 D>B | G>AB>d e>dB<G | A2 A>B A2 :|;B>c | d>BG>B d>BB>g | b2g2 e>fg>e | \n"
     ]
    }
   ],
   "source": [
    "result = sentence_generation(model, 80, [31])\n",
    "print(result)"
   ]
  },
  {
   "cell_type": "markdown",
   "metadata": {},
   "source": [
    "### Many-to-One Char RNN"
   ]
  },
  {
   "cell_type": "code",
   "execution_count": 36,
   "metadata": {},
   "outputs": [],
   "source": [
    "train = len_df['body'].tolist()\n",
    "seq_length = 10\n",
    "\n",
    "X_data = list()\n",
    "y_data = list()\n",
    "\n",
    "for seq in train:\n",
    "    for i in range((len(seq)-1)//seq_length):\n",
    "        # 0:80 -> 80:160 -> 160:240로 loop를 돌면서 문장 샘플을 1개씩 pick\n",
    "        X_sample = seq[i*seq_length:(i+1)*seq_length+1]\n",
    "\n",
    "        # 정수 인코딩\n",
    "        X_encoded = [char_to_index[c] for c in X_sample]\n",
    "        X_data.append(X_encoded[:-1])\n",
    "        y_data.append(X_encoded[-1])"
   ]
  },
  {
   "cell_type": "code",
   "execution_count": 41,
   "metadata": {},
   "outputs": [],
   "source": [
    "X_data_one_hot = [to_categorical(encoded, num_classes=vocab_size) for encoded in X_data]\n",
    "X_data_one_hot = np.array(X_data_one_hot)\n",
    "y_data_one_hot = to_categorical(y_data, num_classes=vocab_size)"
   ]
  },
  {
   "cell_type": "code",
   "execution_count": 42,
   "metadata": {},
   "outputs": [
    {
     "name": "stdout",
     "output_type": "stream",
     "text": [
      "(117766, 10, 81)\n"
     ]
    }
   ],
   "source": [
    "print(X_data_one_hot.shape)"
   ]
  },
  {
   "cell_type": "code",
   "execution_count": null,
   "metadata": {},
   "outputs": [],
   "source": [
    "from tensorflow.keras.models import Sequential\n",
    "from tensorflow.keras.layers import Dense, LSTM, TimeDistributed\n",
    "from tensorflow.keras.callbacks import ModelCheckpoint, LearningRateScheduler, EarlyStopping\n",
    "\n",
    "hidden_units = 256\n",
    "\n",
    "model = Sequential()\n",
    "model.add(LSTM(hidden_units, input_shape=(X_data_one_hot.shape[1], X_data_one_hot.shape[2])))\n",
    "model.add(Dense(vocab_size, activation='softmax'))\n",
    "\n",
    "model.compile(loss='categorical_crossentropy', optimizer='adam', metrics=['accuracy'])\n",
    "early_stopping = EarlyStopping(monitor='loss', patience=3)\n",
    "history = model.fit(X_data_one_hot, y_data_one_hot, epochs=100, callbacks=[early_stopping])"
   ]
  },
  {
   "cell_type": "code",
   "execution_count": 46,
   "metadata": {},
   "outputs": [],
   "source": [
    "model.save('char_rnn_1to1.h5')\n",
    "pd.DataFrame(history.history).to_csv('char_rnn_mto1', index=False)"
   ]
  },
  {
   "cell_type": "code",
   "execution_count": 47,
   "metadata": {},
   "outputs": [
    {
     "data": {
      "image/png": "[encoded data removed]",
      "text/plain": [
       "<Figure size 720x288 with 2 Axes>"
      ]
     },
     "metadata": {
      "needs_background": "light"
     },
     "output_type": "display_data"
    }
   ],
   "source": [
    "fig, ax = plt.subplots(1, 2, figsize=(10,4))\n",
    "ax[0].plot(history.history['loss'])\n",
    "ax[0].set_title('loss')\n",
    "ax[1].plot(history.history['accuracy'])\n",
    "ax[1].set_title('accuracy')\n",
    "plt.tight_layout()\n",
    "plt.show()"
   ]
  },
  {
   "cell_type": "code",
   "execution_count": 48,
   "metadata": {},
   "outputs": [],
   "source": [
    "from tensorflow.keras.preprocessing.sequence import pad_sequences\n",
    "def sentence_generation(model, char_to_index, seq_length, seed_text, n):\n",
    "\n",
    "    # 초기 시퀀스\n",
    "    init_text = seed_text\n",
    "    sentence = ''\n",
    "\n",
    "    # 다음 문자 예측은 총 n번만 반복.\n",
    "    for _ in range(n):\n",
    "        encoded = [char_to_index[char] for char in seed_text] # 현재 시퀀스에 대한 정수 인코딩\n",
    "        encoded = pad_sequences([encoded], maxlen=seq_length, padding='pre') # 데이터에 대한 패딩\n",
    "        encoded = to_categorical(encoded, num_classes=len(char_to_index))\n",
    "\n",
    "        # 입력한 X(현재 시퀀스)에 대해서 y를 예측하고 y(예측한 문자)를 result에 저장.\n",
    "        result = model.predict(encoded, verbose=0)\n",
    "        result = np.argmax(result, axis=1)\n",
    "\n",
    "        for char, index in char_to_index.items():\n",
    "            if index == result:\n",
    "                break\n",
    "\n",
    "        # 현재 시퀀스 + 예측 문자를 현재 시퀀스로 변경\n",
    "        seed_text = seed_text + char\n",
    "\n",
    "        # 예측 문자를 문장에 저장\n",
    "        sentence = sentence + char\n",
    "\n",
    "    # n번의 다음 문자 예측이 끝나면 최종 완성된 문장을 리턴.\n",
    "    sentence = init_text + sentence\n",
    "    return sentence"
   ]
  },
  {
   "cell_type": "code",
   "execution_count": 50,
   "metadata": {},
   "outputs": [
    {
     "name": "stderr",
     "output_type": "stream",
     "text": [
      "2022-07-03 19:55:54.741898: I tensorflow/core/grappler/optimizers/custom_graph_optimizer_registry.cc:113] Plugin optimizer for device_type GPU is enabled.\n",
      "2022-07-03 19:55:54.806741: I tensorflow/core/grappler/optimizers/custom_graph_optimizer_registry.cc:113] Plugin optimizer for device_type GPU is enabled.\n"
     ]
    },
    {
     "name": "stdout",
     "output_type": "stream",
     "text": [
      "G>AGE D>EGA|BG (3D/2D/2D D2D|D2 D2F2:|A2B2 A2D2|EAAA AcBB|AAeA dedc||;d2((dB))A | (A>B c2) \n"
     ]
    }
   ],
   "source": [
    "print(sentence_generation(model, char_to_index, 11, 'G>AGE D>EGA', 80))"
   ]
  },
  {
   "cell_type": "code",
   "execution_count": null,
   "metadata": {},
   "outputs": [],
   "source": []
  }
 ],
 "metadata": {
  "kernelspec": {
   "display_name": "Python 3.8.9 ('base')",
   "language": "python",
   "name": "python3"
  },
  "language_info": {
   "codemirror_mode": {
    "name": "ipython",
    "version": 3
   },
   "file_extension": ".py",
   "mimetype": "text/x-python",
   "name": "python",
   "nbconvert_exporter": "python",
   "pygments_lexer": "ipython3",
   "version": "3.8.9"
  },
  "orig_nbformat": 4,
  "vscode": {
   "interpreter": {
    "hash": "c6e433785c256eddf1a97ef126132771859332314632db55c9adf99951004659"
   }
  }
 },
 "nbformat": 4,
 "nbformat_minor": 2
}
